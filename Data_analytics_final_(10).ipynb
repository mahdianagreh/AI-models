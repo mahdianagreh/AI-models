{
  "cells": [
    {
      "cell_type": "code",
      "source": [
        "from google.colab import drive\n",
        "drive.mount('/content/drive')"
      ],
      "metadata": {
        "colab": {
          "base_uri": "https://localhost:8080/"
        },
        "id": "hMxS519PQcT2",
        "outputId": "3a9083d5-95e1-4092-f331-3fc9189aaed2"
      },
      "execution_count": 2,
      "outputs": [
        {
          "output_type": "stream",
          "name": "stdout",
          "text": [
            "Mounted at /content/drive\n"
          ]
        }
      ]
    },
    {
      "cell_type": "code",
      "source": [
        "import pandas as pd\n",
        "import numpy as np\n",
        "import seaborn as sns\n",
        "from sklearn.metrics import r2_score\n",
        "from sklearn.metrics import mean_absolute_error\n",
        "from sklearn.metrics import mean_squared_error\n",
        "import scipy.stats as stats\n",
        "from statistics import mode\n",
        "import math"
      ],
      "metadata": {
        "id": "TV-5nS0ZRV-1"
      },
      "execution_count": 3,
      "outputs": []
    },
    {
      "cell_type": "markdown",
      "source": [
        "Explore data"
      ],
      "metadata": {
        "id": "OdOoVz5lrmTi"
      }
    },
    {
      "cell_type": "code",
      "source": [
        "df=pd.read_csv('/content/drive/MyDrive/AI/high.csv')\n",
        "df2=pd.read_csv('/content/drive/MyDrive/AI/low.csv')\n"
      ],
      "metadata": {
        "id": "wOWoPPq2Repq"
      },
      "execution_count": 4,
      "outputs": []
    },
    {
      "cell_type": "code",
      "source": [
        "df"
      ],
      "metadata": {
        "id": "7dEAGttHF7qu",
        "colab": {
          "base_uri": "https://localhost:8080/",
          "height": 487
        },
        "outputId": "b08a234b-2e82-4004-ba2f-af1729e985be"
      },
      "execution_count": 5,
      "outputs": [
        {
          "output_type": "execute_result",
          "data": {
            "text/plain": [
              "       TRADE_DATE  SEC_CODE SYMBOL1  MARKET      VOLUME  TRADE_QTY  \\\n",
              "0      01/02/2022    111001    JOIB       1   199083.73      54378   \n",
              "1      01/02/2022    111002    JOKB       1    12707.76       9009   \n",
              "2      01/02/2022    111003    JCBK       2      727.41        726   \n",
              "3      01/02/2022    111004    THBK       1     1558.10        394   \n",
              "4      01/02/2022    111006    SIBK       1    29030.98      14867   \n",
              "...           ...       ...     ...     ...         ...        ...   \n",
              "28007  31/10/2022    141214    ASAS       2  1025509.50    1981726   \n",
              "28008  31/10/2022    141215    UCIC       2      154.70        455   \n",
              "28009  31/10/2022    141223    SHBA       2    57426.99      10276   \n",
              "28010  31/10/2022    141224    NCCO       1     1135.00        500   \n",
              "28011  31/10/2022    142041    JOPT       1   921007.59     170828   \n",
              "\n",
              "       NO_OF_TRADES  HIGH  BEST_ASK_PRICE  BEST_ASK_QTY  BEST_BID_PRICE  \\\n",
              "0                73  3.67            2.65         585.0            3.13   \n",
              "1                17  1.42            1.36         493.0            1.86   \n",
              "2                 7  1.03            1.14        1853.0            1.64   \n",
              "3                 5  3.97            1.09         660.0            1.59   \n",
              "4                11  1.98            1.23        1000.0            1.73   \n",
              "...             ...   ...             ...           ...             ...   \n",
              "28007            25  0.52            1.55        2462.0            2.04   \n",
              "28008             2  0.34            1.02        6959.0            1.52   \n",
              "28009            14  5.61            1.29          70.0            1.79   \n",
              "28010             1  2.27            1.00         500.0            1.50   \n",
              "28011           568  5.57           14.02        1048.0           14.35   \n",
              "\n",
              "       BEST_BID_QTY  \n",
              "0            2000.0  \n",
              "1            1570.0  \n",
              "2            1000.0  \n",
              "3              46.0  \n",
              "4             333.0  \n",
              "...             ...  \n",
              "28007           0.0  \n",
              "28008       14710.0  \n",
              "28009           0.0  \n",
              "28010         500.0  \n",
              "28011          20.0  \n",
              "\n",
              "[28012 rows x 12 columns]"
            ],
            "text/html": [
              "\n",
              "  <div id=\"df-744e595b-77c2-40c1-8804-537a82fbe186\">\n",
              "    <div class=\"colab-df-container\">\n",
              "      <div>\n",
              "<style scoped>\n",
              "    .dataframe tbody tr th:only-of-type {\n",
              "        vertical-align: middle;\n",
              "    }\n",
              "\n",
              "    .dataframe tbody tr th {\n",
              "        vertical-align: top;\n",
              "    }\n",
              "\n",
              "    .dataframe thead th {\n",
              "        text-align: right;\n",
              "    }\n",
              "</style>\n",
              "<table border=\"1\" class=\"dataframe\">\n",
              "  <thead>\n",
              "    <tr style=\"text-align: right;\">\n",
              "      <th></th>\n",
              "      <th>TRADE_DATE</th>\n",
              "      <th>SEC_CODE</th>\n",
              "      <th>SYMBOL1</th>\n",
              "      <th>MARKET</th>\n",
              "      <th>VOLUME</th>\n",
              "      <th>TRADE_QTY</th>\n",
              "      <th>NO_OF_TRADES</th>\n",
              "      <th>HIGH</th>\n",
              "      <th>BEST_ASK_PRICE</th>\n",
              "      <th>BEST_ASK_QTY</th>\n",
              "      <th>BEST_BID_PRICE</th>\n",
              "      <th>BEST_BID_QTY</th>\n",
              "    </tr>\n",
              "  </thead>\n",
              "  <tbody>\n",
              "    <tr>\n",
              "      <th>0</th>\n",
              "      <td>01/02/2022</td>\n",
              "      <td>111001</td>\n",
              "      <td>JOIB</td>\n",
              "      <td>1</td>\n",
              "      <td>199083.73</td>\n",
              "      <td>54378</td>\n",
              "      <td>73</td>\n",
              "      <td>3.67</td>\n",
              "      <td>2.65</td>\n",
              "      <td>585.0</td>\n",
              "      <td>3.13</td>\n",
              "      <td>2000.0</td>\n",
              "    </tr>\n",
              "    <tr>\n",
              "      <th>1</th>\n",
              "      <td>01/02/2022</td>\n",
              "      <td>111002</td>\n",
              "      <td>JOKB</td>\n",
              "      <td>1</td>\n",
              "      <td>12707.76</td>\n",
              "      <td>9009</td>\n",
              "      <td>17</td>\n",
              "      <td>1.42</td>\n",
              "      <td>1.36</td>\n",
              "      <td>493.0</td>\n",
              "      <td>1.86</td>\n",
              "      <td>1570.0</td>\n",
              "    </tr>\n",
              "    <tr>\n",
              "      <th>2</th>\n",
              "      <td>01/02/2022</td>\n",
              "      <td>111003</td>\n",
              "      <td>JCBK</td>\n",
              "      <td>2</td>\n",
              "      <td>727.41</td>\n",
              "      <td>726</td>\n",
              "      <td>7</td>\n",
              "      <td>1.03</td>\n",
              "      <td>1.14</td>\n",
              "      <td>1853.0</td>\n",
              "      <td>1.64</td>\n",
              "      <td>1000.0</td>\n",
              "    </tr>\n",
              "    <tr>\n",
              "      <th>3</th>\n",
              "      <td>01/02/2022</td>\n",
              "      <td>111004</td>\n",
              "      <td>THBK</td>\n",
              "      <td>1</td>\n",
              "      <td>1558.10</td>\n",
              "      <td>394</td>\n",
              "      <td>5</td>\n",
              "      <td>3.97</td>\n",
              "      <td>1.09</td>\n",
              "      <td>660.0</td>\n",
              "      <td>1.59</td>\n",
              "      <td>46.0</td>\n",
              "    </tr>\n",
              "    <tr>\n",
              "      <th>4</th>\n",
              "      <td>01/02/2022</td>\n",
              "      <td>111006</td>\n",
              "      <td>SIBK</td>\n",
              "      <td>1</td>\n",
              "      <td>29030.98</td>\n",
              "      <td>14867</td>\n",
              "      <td>11</td>\n",
              "      <td>1.98</td>\n",
              "      <td>1.23</td>\n",
              "      <td>1000.0</td>\n",
              "      <td>1.73</td>\n",
              "      <td>333.0</td>\n",
              "    </tr>\n",
              "    <tr>\n",
              "      <th>...</th>\n",
              "      <td>...</td>\n",
              "      <td>...</td>\n",
              "      <td>...</td>\n",
              "      <td>...</td>\n",
              "      <td>...</td>\n",
              "      <td>...</td>\n",
              "      <td>...</td>\n",
              "      <td>...</td>\n",
              "      <td>...</td>\n",
              "      <td>...</td>\n",
              "      <td>...</td>\n",
              "      <td>...</td>\n",
              "    </tr>\n",
              "    <tr>\n",
              "      <th>28007</th>\n",
              "      <td>31/10/2022</td>\n",
              "      <td>141214</td>\n",
              "      <td>ASAS</td>\n",
              "      <td>2</td>\n",
              "      <td>1025509.50</td>\n",
              "      <td>1981726</td>\n",
              "      <td>25</td>\n",
              "      <td>0.52</td>\n",
              "      <td>1.55</td>\n",
              "      <td>2462.0</td>\n",
              "      <td>2.04</td>\n",
              "      <td>0.0</td>\n",
              "    </tr>\n",
              "    <tr>\n",
              "      <th>28008</th>\n",
              "      <td>31/10/2022</td>\n",
              "      <td>141215</td>\n",
              "      <td>UCIC</td>\n",
              "      <td>2</td>\n",
              "      <td>154.70</td>\n",
              "      <td>455</td>\n",
              "      <td>2</td>\n",
              "      <td>0.34</td>\n",
              "      <td>1.02</td>\n",
              "      <td>6959.0</td>\n",
              "      <td>1.52</td>\n",
              "      <td>14710.0</td>\n",
              "    </tr>\n",
              "    <tr>\n",
              "      <th>28009</th>\n",
              "      <td>31/10/2022</td>\n",
              "      <td>141223</td>\n",
              "      <td>SHBA</td>\n",
              "      <td>2</td>\n",
              "      <td>57426.99</td>\n",
              "      <td>10276</td>\n",
              "      <td>14</td>\n",
              "      <td>5.61</td>\n",
              "      <td>1.29</td>\n",
              "      <td>70.0</td>\n",
              "      <td>1.79</td>\n",
              "      <td>0.0</td>\n",
              "    </tr>\n",
              "    <tr>\n",
              "      <th>28010</th>\n",
              "      <td>31/10/2022</td>\n",
              "      <td>141224</td>\n",
              "      <td>NCCO</td>\n",
              "      <td>1</td>\n",
              "      <td>1135.00</td>\n",
              "      <td>500</td>\n",
              "      <td>1</td>\n",
              "      <td>2.27</td>\n",
              "      <td>1.00</td>\n",
              "      <td>500.0</td>\n",
              "      <td>1.50</td>\n",
              "      <td>500.0</td>\n",
              "    </tr>\n",
              "    <tr>\n",
              "      <th>28011</th>\n",
              "      <td>31/10/2022</td>\n",
              "      <td>142041</td>\n",
              "      <td>JOPT</td>\n",
              "      <td>1</td>\n",
              "      <td>921007.59</td>\n",
              "      <td>170828</td>\n",
              "      <td>568</td>\n",
              "      <td>5.57</td>\n",
              "      <td>14.02</td>\n",
              "      <td>1048.0</td>\n",
              "      <td>14.35</td>\n",
              "      <td>20.0</td>\n",
              "    </tr>\n",
              "  </tbody>\n",
              "</table>\n",
              "<p>28012 rows × 12 columns</p>\n",
              "</div>\n",
              "      <button class=\"colab-df-convert\" onclick=\"convertToInteractive('df-744e595b-77c2-40c1-8804-537a82fbe186')\"\n",
              "              title=\"Convert this dataframe to an interactive table.\"\n",
              "              style=\"display:none;\">\n",
              "        \n",
              "  <svg xmlns=\"http://www.w3.org/2000/svg\" height=\"24px\"viewBox=\"0 0 24 24\"\n",
              "       width=\"24px\">\n",
              "    <path d=\"M0 0h24v24H0V0z\" fill=\"none\"/>\n",
              "    <path d=\"M18.56 5.44l.94 2.06.94-2.06 2.06-.94-2.06-.94-.94-2.06-.94 2.06-2.06.94zm-11 1L8.5 8.5l.94-2.06 2.06-.94-2.06-.94L8.5 2.5l-.94 2.06-2.06.94zm10 10l.94 2.06.94-2.06 2.06-.94-2.06-.94-.94-2.06-.94 2.06-2.06.94z\"/><path d=\"M17.41 7.96l-1.37-1.37c-.4-.4-.92-.59-1.43-.59-.52 0-1.04.2-1.43.59L10.3 9.45l-7.72 7.72c-.78.78-.78 2.05 0 2.83L4 21.41c.39.39.9.59 1.41.59.51 0 1.02-.2 1.41-.59l7.78-7.78 2.81-2.81c.8-.78.8-2.07 0-2.86zM5.41 20L4 18.59l7.72-7.72 1.47 1.35L5.41 20z\"/>\n",
              "  </svg>\n",
              "      </button>\n",
              "      \n",
              "  <style>\n",
              "    .colab-df-container {\n",
              "      display:flex;\n",
              "      flex-wrap:wrap;\n",
              "      gap: 12px;\n",
              "    }\n",
              "\n",
              "    .colab-df-convert {\n",
              "      background-color: #E8F0FE;\n",
              "      border: none;\n",
              "      border-radius: 50%;\n",
              "      cursor: pointer;\n",
              "      display: none;\n",
              "      fill: #1967D2;\n",
              "      height: 32px;\n",
              "      padding: 0 0 0 0;\n",
              "      width: 32px;\n",
              "    }\n",
              "\n",
              "    .colab-df-convert:hover {\n",
              "      background-color: #E2EBFA;\n",
              "      box-shadow: 0px 1px 2px rgba(60, 64, 67, 0.3), 0px 1px 3px 1px rgba(60, 64, 67, 0.15);\n",
              "      fill: #174EA6;\n",
              "    }\n",
              "\n",
              "    [theme=dark] .colab-df-convert {\n",
              "      background-color: #3B4455;\n",
              "      fill: #D2E3FC;\n",
              "    }\n",
              "\n",
              "    [theme=dark] .colab-df-convert:hover {\n",
              "      background-color: #434B5C;\n",
              "      box-shadow: 0px 1px 3px 1px rgba(0, 0, 0, 0.15);\n",
              "      filter: drop-shadow(0px 1px 2px rgba(0, 0, 0, 0.3));\n",
              "      fill: #FFFFFF;\n",
              "    }\n",
              "  </style>\n",
              "\n",
              "      <script>\n",
              "        const buttonEl =\n",
              "          document.querySelector('#df-744e595b-77c2-40c1-8804-537a82fbe186 button.colab-df-convert');\n",
              "        buttonEl.style.display =\n",
              "          google.colab.kernel.accessAllowed ? 'block' : 'none';\n",
              "\n",
              "        async function convertToInteractive(key) {\n",
              "          const element = document.querySelector('#df-744e595b-77c2-40c1-8804-537a82fbe186');\n",
              "          const dataTable =\n",
              "            await google.colab.kernel.invokeFunction('convertToInteractive',\n",
              "                                                     [key], {});\n",
              "          if (!dataTable) return;\n",
              "\n",
              "          const docLinkHtml = 'Like what you see? Visit the ' +\n",
              "            '<a target=\"_blank\" href=https://colab.research.google.com/notebooks/data_table.ipynb>data table notebook</a>'\n",
              "            + ' to learn more about interactive tables.';\n",
              "          element.innerHTML = '';\n",
              "          dataTable['output_type'] = 'display_data';\n",
              "          await google.colab.output.renderOutput(dataTable, element);\n",
              "          const docLink = document.createElement('div');\n",
              "          docLink.innerHTML = docLinkHtml;\n",
              "          element.appendChild(docLink);\n",
              "        }\n",
              "      </script>\n",
              "    </div>\n",
              "  </div>\n",
              "  "
            ]
          },
          "metadata": {},
          "execution_count": 5
        }
      ]
    },
    {
      "cell_type": "code",
      "source": [
        "df.describe(include='all')"
      ],
      "metadata": {
        "colab": {
          "base_uri": "https://localhost:8080/",
          "height": 458
        },
        "id": "LT0ZqoovvFEY",
        "outputId": "c198392f-e383-4ba8-ab6f-b3de23824b89"
      },
      "execution_count": 6,
      "outputs": [
        {
          "output_type": "execute_result",
          "data": {
            "text/plain": [
              "        TRADE_DATE       SEC_CODE SYMBOL1        MARKET        VOLUME  \\\n",
              "count        28012   28012.000000   28012  28012.000000  2.801200e+04   \n",
              "unique         248            NaN     213           NaN           NaN   \n",
              "top     13/03/2022            NaN    JOIB           NaN           NaN   \n",
              "freq           135            NaN     247           NaN           NaN   \n",
              "mean           NaN  131287.967871     NaN      1.385906  6.312677e+04   \n",
              "std            NaN    9043.995400     NaN      0.750480  3.022558e+05   \n",
              "min            NaN  111001.000000     NaN      0.000000  2.000000e-02   \n",
              "25%            NaN  131052.000000     NaN      1.000000  6.398300e+02   \n",
              "50%            NaN  131243.000000     NaN      2.000000  3.831125e+03   \n",
              "75%            NaN  141014.000000     NaN      2.000000  2.014495e+04   \n",
              "max            NaN  142041.000000     NaN      2.000000  8.868824e+06   \n",
              "\n",
              "           TRADE_QTY  NO_OF_TRADES          HIGH  BEST_ASK_PRICE  \\\n",
              "count   2.801200e+04  28012.000000  28012.000000    28012.000000   \n",
              "unique           NaN           NaN           NaN             NaN   \n",
              "top              NaN           NaN           NaN             NaN   \n",
              "freq             NaN           NaN           NaN             NaN   \n",
              "mean    4.270346e+04     28.061545      1.713816        1.620775   \n",
              "std     1.451785e+05     66.231007      4.667872        1.520599   \n",
              "min     1.000000e+00      1.000000      0.020000        1.000000   \n",
              "25%     1.000000e+03      3.000000      0.380000        1.050000   \n",
              "50%     5.873500e+03      9.000000      0.710000        1.180000   \n",
              "75%     2.843675e+04     25.000000      1.460000        1.550000   \n",
              "max     5.741963e+06   1700.000000     44.500000       40.000000   \n",
              "\n",
              "        BEST_ASK_QTY  BEST_BID_PRICE  BEST_BID_QTY  \n",
              "count   2.801200e+04    28012.000000  2.801200e+04  \n",
              "unique           NaN             NaN           NaN  \n",
              "top              NaN             NaN           NaN  \n",
              "freq             NaN             NaN           NaN  \n",
              "mean    1.979999e+04        2.113421  2.452341e+04  \n",
              "std     6.742718e+04        1.500857  1.008184e+05  \n",
              "min     0.000000e+00        1.500000  0.000000e+00  \n",
              "25%     5.000000e+02        1.550000  4.000000e+02  \n",
              "50%     2.100000e+03        1.680000  1.912000e+03  \n",
              "75%     9.494250e+03        2.040000  1.038675e+04  \n",
              "max     1.017951e+06       40.000000  3.600734e+06  "
            ],
            "text/html": [
              "\n",
              "  <div id=\"df-4a37bdb6-8842-4beb-8970-a953140b72f4\">\n",
              "    <div class=\"colab-df-container\">\n",
              "      <div>\n",
              "<style scoped>\n",
              "    .dataframe tbody tr th:only-of-type {\n",
              "        vertical-align: middle;\n",
              "    }\n",
              "\n",
              "    .dataframe tbody tr th {\n",
              "        vertical-align: top;\n",
              "    }\n",
              "\n",
              "    .dataframe thead th {\n",
              "        text-align: right;\n",
              "    }\n",
              "</style>\n",
              "<table border=\"1\" class=\"dataframe\">\n",
              "  <thead>\n",
              "    <tr style=\"text-align: right;\">\n",
              "      <th></th>\n",
              "      <th>TRADE_DATE</th>\n",
              "      <th>SEC_CODE</th>\n",
              "      <th>SYMBOL1</th>\n",
              "      <th>MARKET</th>\n",
              "      <th>VOLUME</th>\n",
              "      <th>TRADE_QTY</th>\n",
              "      <th>NO_OF_TRADES</th>\n",
              "      <th>HIGH</th>\n",
              "      <th>BEST_ASK_PRICE</th>\n",
              "      <th>BEST_ASK_QTY</th>\n",
              "      <th>BEST_BID_PRICE</th>\n",
              "      <th>BEST_BID_QTY</th>\n",
              "    </tr>\n",
              "  </thead>\n",
              "  <tbody>\n",
              "    <tr>\n",
              "      <th>count</th>\n",
              "      <td>28012</td>\n",
              "      <td>28012.000000</td>\n",
              "      <td>28012</td>\n",
              "      <td>28012.000000</td>\n",
              "      <td>2.801200e+04</td>\n",
              "      <td>2.801200e+04</td>\n",
              "      <td>28012.000000</td>\n",
              "      <td>28012.000000</td>\n",
              "      <td>28012.000000</td>\n",
              "      <td>2.801200e+04</td>\n",
              "      <td>28012.000000</td>\n",
              "      <td>2.801200e+04</td>\n",
              "    </tr>\n",
              "    <tr>\n",
              "      <th>unique</th>\n",
              "      <td>248</td>\n",
              "      <td>NaN</td>\n",
              "      <td>213</td>\n",
              "      <td>NaN</td>\n",
              "      <td>NaN</td>\n",
              "      <td>NaN</td>\n",
              "      <td>NaN</td>\n",
              "      <td>NaN</td>\n",
              "      <td>NaN</td>\n",
              "      <td>NaN</td>\n",
              "      <td>NaN</td>\n",
              "      <td>NaN</td>\n",
              "    </tr>\n",
              "    <tr>\n",
              "      <th>top</th>\n",
              "      <td>13/03/2022</td>\n",
              "      <td>NaN</td>\n",
              "      <td>JOIB</td>\n",
              "      <td>NaN</td>\n",
              "      <td>NaN</td>\n",
              "      <td>NaN</td>\n",
              "      <td>NaN</td>\n",
              "      <td>NaN</td>\n",
              "      <td>NaN</td>\n",
              "      <td>NaN</td>\n",
              "      <td>NaN</td>\n",
              "      <td>NaN</td>\n",
              "    </tr>\n",
              "    <tr>\n",
              "      <th>freq</th>\n",
              "      <td>135</td>\n",
              "      <td>NaN</td>\n",
              "      <td>247</td>\n",
              "      <td>NaN</td>\n",
              "      <td>NaN</td>\n",
              "      <td>NaN</td>\n",
              "      <td>NaN</td>\n",
              "      <td>NaN</td>\n",
              "      <td>NaN</td>\n",
              "      <td>NaN</td>\n",
              "      <td>NaN</td>\n",
              "      <td>NaN</td>\n",
              "    </tr>\n",
              "    <tr>\n",
              "      <th>mean</th>\n",
              "      <td>NaN</td>\n",
              "      <td>131287.967871</td>\n",
              "      <td>NaN</td>\n",
              "      <td>1.385906</td>\n",
              "      <td>6.312677e+04</td>\n",
              "      <td>4.270346e+04</td>\n",
              "      <td>28.061545</td>\n",
              "      <td>1.713816</td>\n",
              "      <td>1.620775</td>\n",
              "      <td>1.979999e+04</td>\n",
              "      <td>2.113421</td>\n",
              "      <td>2.452341e+04</td>\n",
              "    </tr>\n",
              "    <tr>\n",
              "      <th>std</th>\n",
              "      <td>NaN</td>\n",
              "      <td>9043.995400</td>\n",
              "      <td>NaN</td>\n",
              "      <td>0.750480</td>\n",
              "      <td>3.022558e+05</td>\n",
              "      <td>1.451785e+05</td>\n",
              "      <td>66.231007</td>\n",
              "      <td>4.667872</td>\n",
              "      <td>1.520599</td>\n",
              "      <td>6.742718e+04</td>\n",
              "      <td>1.500857</td>\n",
              "      <td>1.008184e+05</td>\n",
              "    </tr>\n",
              "    <tr>\n",
              "      <th>min</th>\n",
              "      <td>NaN</td>\n",
              "      <td>111001.000000</td>\n",
              "      <td>NaN</td>\n",
              "      <td>0.000000</td>\n",
              "      <td>2.000000e-02</td>\n",
              "      <td>1.000000e+00</td>\n",
              "      <td>1.000000</td>\n",
              "      <td>0.020000</td>\n",
              "      <td>1.000000</td>\n",
              "      <td>0.000000e+00</td>\n",
              "      <td>1.500000</td>\n",
              "      <td>0.000000e+00</td>\n",
              "    </tr>\n",
              "    <tr>\n",
              "      <th>25%</th>\n",
              "      <td>NaN</td>\n",
              "      <td>131052.000000</td>\n",
              "      <td>NaN</td>\n",
              "      <td>1.000000</td>\n",
              "      <td>6.398300e+02</td>\n",
              "      <td>1.000000e+03</td>\n",
              "      <td>3.000000</td>\n",
              "      <td>0.380000</td>\n",
              "      <td>1.050000</td>\n",
              "      <td>5.000000e+02</td>\n",
              "      <td>1.550000</td>\n",
              "      <td>4.000000e+02</td>\n",
              "    </tr>\n",
              "    <tr>\n",
              "      <th>50%</th>\n",
              "      <td>NaN</td>\n",
              "      <td>131243.000000</td>\n",
              "      <td>NaN</td>\n",
              "      <td>2.000000</td>\n",
              "      <td>3.831125e+03</td>\n",
              "      <td>5.873500e+03</td>\n",
              "      <td>9.000000</td>\n",
              "      <td>0.710000</td>\n",
              "      <td>1.180000</td>\n",
              "      <td>2.100000e+03</td>\n",
              "      <td>1.680000</td>\n",
              "      <td>1.912000e+03</td>\n",
              "    </tr>\n",
              "    <tr>\n",
              "      <th>75%</th>\n",
              "      <td>NaN</td>\n",
              "      <td>141014.000000</td>\n",
              "      <td>NaN</td>\n",
              "      <td>2.000000</td>\n",
              "      <td>2.014495e+04</td>\n",
              "      <td>2.843675e+04</td>\n",
              "      <td>25.000000</td>\n",
              "      <td>1.460000</td>\n",
              "      <td>1.550000</td>\n",
              "      <td>9.494250e+03</td>\n",
              "      <td>2.040000</td>\n",
              "      <td>1.038675e+04</td>\n",
              "    </tr>\n",
              "    <tr>\n",
              "      <th>max</th>\n",
              "      <td>NaN</td>\n",
              "      <td>142041.000000</td>\n",
              "      <td>NaN</td>\n",
              "      <td>2.000000</td>\n",
              "      <td>8.868824e+06</td>\n",
              "      <td>5.741963e+06</td>\n",
              "      <td>1700.000000</td>\n",
              "      <td>44.500000</td>\n",
              "      <td>40.000000</td>\n",
              "      <td>1.017951e+06</td>\n",
              "      <td>40.000000</td>\n",
              "      <td>3.600734e+06</td>\n",
              "    </tr>\n",
              "  </tbody>\n",
              "</table>\n",
              "</div>\n",
              "      <button class=\"colab-df-convert\" onclick=\"convertToInteractive('df-4a37bdb6-8842-4beb-8970-a953140b72f4')\"\n",
              "              title=\"Convert this dataframe to an interactive table.\"\n",
              "              style=\"display:none;\">\n",
              "        \n",
              "  <svg xmlns=\"http://www.w3.org/2000/svg\" height=\"24px\"viewBox=\"0 0 24 24\"\n",
              "       width=\"24px\">\n",
              "    <path d=\"M0 0h24v24H0V0z\" fill=\"none\"/>\n",
              "    <path d=\"M18.56 5.44l.94 2.06.94-2.06 2.06-.94-2.06-.94-.94-2.06-.94 2.06-2.06.94zm-11 1L8.5 8.5l.94-2.06 2.06-.94-2.06-.94L8.5 2.5l-.94 2.06-2.06.94zm10 10l.94 2.06.94-2.06 2.06-.94-2.06-.94-.94-2.06-.94 2.06-2.06.94z\"/><path d=\"M17.41 7.96l-1.37-1.37c-.4-.4-.92-.59-1.43-.59-.52 0-1.04.2-1.43.59L10.3 9.45l-7.72 7.72c-.78.78-.78 2.05 0 2.83L4 21.41c.39.39.9.59 1.41.59.51 0 1.02-.2 1.41-.59l7.78-7.78 2.81-2.81c.8-.78.8-2.07 0-2.86zM5.41 20L4 18.59l7.72-7.72 1.47 1.35L5.41 20z\"/>\n",
              "  </svg>\n",
              "      </button>\n",
              "      \n",
              "  <style>\n",
              "    .colab-df-container {\n",
              "      display:flex;\n",
              "      flex-wrap:wrap;\n",
              "      gap: 12px;\n",
              "    }\n",
              "\n",
              "    .colab-df-convert {\n",
              "      background-color: #E8F0FE;\n",
              "      border: none;\n",
              "      border-radius: 50%;\n",
              "      cursor: pointer;\n",
              "      display: none;\n",
              "      fill: #1967D2;\n",
              "      height: 32px;\n",
              "      padding: 0 0 0 0;\n",
              "      width: 32px;\n",
              "    }\n",
              "\n",
              "    .colab-df-convert:hover {\n",
              "      background-color: #E2EBFA;\n",
              "      box-shadow: 0px 1px 2px rgba(60, 64, 67, 0.3), 0px 1px 3px 1px rgba(60, 64, 67, 0.15);\n",
              "      fill: #174EA6;\n",
              "    }\n",
              "\n",
              "    [theme=dark] .colab-df-convert {\n",
              "      background-color: #3B4455;\n",
              "      fill: #D2E3FC;\n",
              "    }\n",
              "\n",
              "    [theme=dark] .colab-df-convert:hover {\n",
              "      background-color: #434B5C;\n",
              "      box-shadow: 0px 1px 3px 1px rgba(0, 0, 0, 0.15);\n",
              "      filter: drop-shadow(0px 1px 2px rgba(0, 0, 0, 0.3));\n",
              "      fill: #FFFFFF;\n",
              "    }\n",
              "  </style>\n",
              "\n",
              "      <script>\n",
              "        const buttonEl =\n",
              "          document.querySelector('#df-4a37bdb6-8842-4beb-8970-a953140b72f4 button.colab-df-convert');\n",
              "        buttonEl.style.display =\n",
              "          google.colab.kernel.accessAllowed ? 'block' : 'none';\n",
              "\n",
              "        async function convertToInteractive(key) {\n",
              "          const element = document.querySelector('#df-4a37bdb6-8842-4beb-8970-a953140b72f4');\n",
              "          const dataTable =\n",
              "            await google.colab.kernel.invokeFunction('convertToInteractive',\n",
              "                                                     [key], {});\n",
              "          if (!dataTable) return;\n",
              "\n",
              "          const docLinkHtml = 'Like what you see? Visit the ' +\n",
              "            '<a target=\"_blank\" href=https://colab.research.google.com/notebooks/data_table.ipynb>data table notebook</a>'\n",
              "            + ' to learn more about interactive tables.';\n",
              "          element.innerHTML = '';\n",
              "          dataTable['output_type'] = 'display_data';\n",
              "          await google.colab.output.renderOutput(dataTable, element);\n",
              "          const docLink = document.createElement('div');\n",
              "          docLink.innerHTML = docLinkHtml;\n",
              "          element.appendChild(docLink);\n",
              "        }\n",
              "      </script>\n",
              "    </div>\n",
              "  </div>\n",
              "  "
            ]
          },
          "metadata": {},
          "execution_count": 6
        }
      ]
    },
    {
      "cell_type": "code",
      "source": [
        "sns.countplot(x='MARKET',data=df)"
      ],
      "metadata": {
        "colab": {
          "base_uri": "https://localhost:8080/",
          "height": 468
        },
        "id": "Wow8PJxpRsS5",
        "outputId": "8aa2674a-9695-40bf-f588-769a2872c021"
      },
      "execution_count": 7,
      "outputs": [
        {
          "output_type": "execute_result",
          "data": {
            "text/plain": [
              "<Axes: xlabel='MARKET', ylabel='count'>"
            ]
          },
          "metadata": {},
          "execution_count": 7
        },
        {
          "output_type": "display_data",
          "data": {
            "text/plain": [
              "<Figure size 640x480 with 1 Axes>"
            ],
            "image/png": "[encoded data removed]"
          },
          "metadata": {}
        }
      ]
    },
    {
      "cell_type": "code",
      "source": [
        "mode=df['MARKET'].mode()[0]\n",
        "print('mode for the MARKET column is Market number '+str(mode))"
      ],
      "metadata": {
        "colab": {
          "base_uri": "https://localhost:8080/"
        },
        "id": "C_heEADGypOA",
        "outputId": "510081e8-015d-4efa-9af1-149e6a7d3231"
      },
      "execution_count": 8,
      "outputs": [
        {
          "output_type": "stream",
          "name": "stdout",
          "text": [
            "mode for the MARKET column is Market number 2\n"
          ]
        }
      ]
    },
    {
      "cell_type": "code",
      "source": [
        "freq=df.groupby('MARKET').size()\n",
        "print('frequency for each market'+str(freq))"
      ],
      "metadata": {
        "colab": {
          "base_uri": "https://localhost:8080/"
        },
        "id": "xMH-D0Azsid9",
        "outputId": "d312a23e-d4fb-4262-aa0d-bd3c1ce32bd5"
      },
      "execution_count": 9,
      "outputs": [
        {
          "output_type": "stream",
          "name": "stdout",
          "text": [
            "frequency for each marketMARKET\n",
            "0     4569\n",
            "1     8064\n",
            "2    15379\n",
            "dtype: int64\n"
          ]
        }
      ]
    },
    {
      "cell_type": "code",
      "source": [
        "sum=freq.sum()\n",
        "sum"
      ],
      "metadata": {
        "colab": {
          "base_uri": "https://localhost:8080/"
        },
        "id": "HP8qTKDgrIMu",
        "outputId": "8f6c0baa-8671-49fa-d762-ce4c8eded58d"
      },
      "execution_count": 10,
      "outputs": [
        {
          "output_type": "execute_result",
          "data": {
            "text/plain": [
              "28012"
            ]
          },
          "metadata": {},
          "execution_count": 10
        }
      ]
    },
    {
      "cell_type": "code",
      "source": [
        "RF=freq/sum*100\n",
        "print('relative frequency for each market:'+str(RF))"
      ],
      "metadata": {
        "colab": {
          "base_uri": "https://localhost:8080/"
        },
        "id": "T8JFIt4ititW",
        "outputId": "15eb7770-b124-4456-9471-666b1fd0ac4b"
      },
      "execution_count": 11,
      "outputs": [
        {
          "output_type": "stream",
          "name": "stdout",
          "text": [
            "relative frequency for each market:MARKET\n",
            "0    16.310867\n",
            "1    28.787662\n",
            "2    54.901471\n",
            "dtype: float64\n"
          ]
        }
      ]
    },
    {
      "cell_type": "code",
      "source": [
        "val=freq.values\n",
        "cm=val.cumsum()\n",
        "print('cumulative frequency for MARKET column:\\n'+'Market0 '+str(cm[0])+'\\nMarket1 '+str(cm[1])+'\\nMarket2 '+str(cm[2]))"
      ],
      "metadata": {
        "colab": {
          "base_uri": "https://localhost:8080/"
        },
        "id": "bakQTOS1trpJ",
        "outputId": "97f5d117-05d7-4ff0-b340-73989adef3bf"
      },
      "execution_count": 12,
      "outputs": [
        {
          "output_type": "stream",
          "name": "stdout",
          "text": [
            "cumulative frequency for MARKET column:\n",
            "Market0 4569\n",
            "Market1 12633\n",
            "Market2 28012\n"
          ]
        }
      ]
    },
    {
      "cell_type": "code",
      "source": [
        "sc2=sns.histplot(x='NO_OF_TRADES',data=df)\n",
        "sc2.set_ylim(0,2000)"
      ],
      "metadata": {
        "colab": {
          "base_uri": "https://localhost:8080/",
          "height": 472
        },
        "id": "9cka3pMpkNGf",
        "outputId": "2661904f-9260-4894-843a-3f68e7f18ad5"
      },
      "execution_count": 13,
      "outputs": [
        {
          "output_type": "execute_result",
          "data": {
            "text/plain": [
              "(0.0, 2000.0)"
            ]
          },
          "metadata": {},
          "execution_count": 13
        },
        {
          "output_type": "display_data",
          "data": {
            "text/plain": [
              "<Figure size 640x480 with 1 Axes>"
            ],
            "image/png": "[encoded data removed]"
          },
          "metadata": {}
        }
      ]
    },
    {
      "cell_type": "code",
      "source": [
        "sns.boxplot(x='NO_OF_TRADES',data=df)"
      ],
      "metadata": {
        "colab": {
          "base_uri": "https://localhost:8080/",
          "height": 466
        },
        "id": "2Xib7Uzmlxhf",
        "outputId": "32885bde-0c7e-4dcc-cfe5-eb1226eebe3b"
      },
      "execution_count": 14,
      "outputs": [
        {
          "output_type": "execute_result",
          "data": {
            "text/plain": [
              "<Axes: xlabel='NO_OF_TRADES'>"
            ]
          },
          "metadata": {},
          "execution_count": 14
        },
        {
          "output_type": "display_data",
          "data": {
            "text/plain": [
              "<Figure size 640x480 with 1 Axes>"
            ],
            "image/png": "[encoded data removed]"
          },
          "metadata": {}
        }
      ]
    },
    {
      "cell_type": "code",
      "source": [
        "sns.kdeplot(x='NO_OF_TRADES',data=df)"
      ],
      "metadata": {
        "colab": {
          "base_uri": "https://localhost:8080/",
          "height": 466
        },
        "id": "2-hi30a7q06v",
        "outputId": "6e00433b-e3a5-4a41-9c64-7a5dc9e8bab3"
      },
      "execution_count": 15,
      "outputs": [
        {
          "output_type": "execute_result",
          "data": {
            "text/plain": [
              "<Axes: xlabel='NO_OF_TRADES', ylabel='Density'>"
            ]
          },
          "metadata": {},
          "execution_count": 15
        },
        {
          "output_type": "display_data",
          "data": {
            "text/plain": [
              "<Figure size 640x480 with 1 Axes>"
            ],
            "image/png": "[encoded data removed]"
          },
          "metadata": {}
        }
      ]
    },
    {
      "cell_type": "code",
      "source": [
        "sns.boxplot(x='BEST_BID_PRICE',data=df)"
      ],
      "metadata": {
        "colab": {
          "base_uri": "https://localhost:8080/",
          "height": 466
        },
        "id": "dBMmxrVdk7NO",
        "outputId": "3c8d9738-99de-4908-c3a5-1466db5fb01a"
      },
      "execution_count": 16,
      "outputs": [
        {
          "output_type": "execute_result",
          "data": {
            "text/plain": [
              "<Axes: xlabel='BEST_BID_PRICE'>"
            ]
          },
          "metadata": {},
          "execution_count": 16
        },
        {
          "output_type": "display_data",
          "data": {
            "text/plain": [
              "<Figure size 640x480 with 1 Axes>"
            ],
            "image/png": "[encoded data removed]"
          },
          "metadata": {}
        }
      ]
    },
    {
      "cell_type": "code",
      "source": [
        "sns.histplot(x='BEST_BID_PRICE',data=df)"
      ],
      "metadata": {
        "colab": {
          "base_uri": "https://localhost:8080/",
          "height": 468
        },
        "id": "Fom8EhYZwJXD",
        "outputId": "84cba691-9a62-44ef-cb8e-95f665a85f4f"
      },
      "execution_count": 17,
      "outputs": [
        {
          "output_type": "execute_result",
          "data": {
            "text/plain": [
              "<Axes: xlabel='BEST_BID_PRICE', ylabel='Count'>"
            ]
          },
          "metadata": {},
          "execution_count": 17
        },
        {
          "output_type": "display_data",
          "data": {
            "text/plain": [
              "<Figure size 640x480 with 1 Axes>"
            ],
            "image/png": "[encoded data removed]"
          },
          "metadata": {}
        }
      ]
    },
    {
      "cell_type": "code",
      "source": [
        "sns.kdeplot(x='BEST_BID_PRICE',data=df)"
      ],
      "metadata": {
        "colab": {
          "base_uri": "https://localhost:8080/",
          "height": 466
        },
        "id": "Che9QWpPwhAI",
        "outputId": "74193a6c-c87e-46b2-c4ed-0a8bbc56db1c"
      },
      "execution_count": 18,
      "outputs": [
        {
          "output_type": "execute_result",
          "data": {
            "text/plain": [
              "<Axes: xlabel='BEST_BID_PRICE', ylabel='Density'>"
            ]
          },
          "metadata": {},
          "execution_count": 18
        },
        {
          "output_type": "display_data",
          "data": {
            "text/plain": [
              "<Figure size 640x480 with 1 Axes>"
            ],
            "image/png": "[encoded data removed]"
          },
          "metadata": {}
        }
      ]
    },
    {
      "cell_type": "code",
      "source": [
        "var=np.var(df['NO_OF_TRADES'])\n",
        "mean=np.mean(df['NO_OF_TRADES'])\n",
        "median=np.median(df['NO_OF_TRADES'])\n",
        "q1=np.quantile(df['NO_OF_TRADES'],0.25)\n",
        "q3=np.quantile(df['NO_OF_TRADES'],0.75)\n",
        "iqr=q3-q1\n",
        "range=np.max(df['NO_OF_TRADES'])-np.min(df['NO_OF_TRADES'])\n",
        "zscore=stats.zscore(df['NO_OF_TRADES'])\n",
        "upper=q3+(1.5*iqr)\n",
        "lower=q1-(1.5*iqr)\n",
        "outliers=(df['NO_OF_TRADES']>upper) | (df['NO_OF_TRADES']<lower)\n",
        "print('Statistical summary of NO_OF_TRADES column: ')\n",
        "print('variance = '+str(var)+'\\nRange = '+str(range)+'\\nmedian = '+str(median)+'\\nmean = '+str(mean)+'\\nq1 = '+str(q1)+'\\nq3 = '+str(q3)+'\\ninterquartile range = '+str(iqr)+'\\nz-score = '+str(zscore))"
      ],
      "metadata": {
        "id": "s1Izqc1LrvoI",
        "colab": {
          "base_uri": "https://localhost:8080/"
        },
        "outputId": "658af41a-14e6-443e-ed15-19022bb779df"
      },
      "execution_count": 19,
      "outputs": [
        {
          "output_type": "stream",
          "name": "stdout",
          "text": [
            "Statistical summary of NO_OF_TRADES column: \n",
            "variance = 4386.389686431891\n",
            "Range = 1699\n",
            "median = 9.0\n",
            "mean = 28.06154505212052\n",
            "q1 = 3.0\n",
            "q3 = 25.0\n",
            "interquartile range = 22.0\n",
            "z-score = 0        0.678523\n",
            "1       -0.167018\n",
            "2       -0.318007\n",
            "3       -0.348205\n",
            "4       -0.257611\n",
            "           ...   \n",
            "28007   -0.046226\n",
            "28008   -0.393502\n",
            "28009   -0.212314\n",
            "28010   -0.408601\n",
            "28011    8.152497\n",
            "Name: NO_OF_TRADES, Length: 28012, dtype: float64\n"
          ]
        }
      ]
    },
    {
      "cell_type": "code",
      "source": [
        "var2=np.var(df['BEST_BID_PRICE'])\n",
        "mean2=np.mean(df['BEST_BID_PRICE'])\n",
        "median2=np.median(df['BEST_BID_PRICE'])\n",
        "q12=np.quantile(df['BEST_BID_PRICE'],0.25)\n",
        "q32=np.quantile(df['BEST_BID_PRICE'],0.75)\n",
        "iqr2=q32-q12\n",
        "range2=np.max(df['BEST_BID_PRICE'])-np.min(df['BEST_BID_PRICE'])\n",
        "zscore2=stats.zscore(df['NO_OF_TRADES'])\n",
        "upper2=q3+(1.5*iqr2)\n",
        "lower2=q1-(1.5*iqr2)\n",
        "outliers2=(df['BEST_BID_PRICE']>upper) | (df['BEST_BID_PRICE']<lower)\n",
        "print('Statistical summary of BEST_BID_PRICE column:\\n')\n",
        "print('Range = '+str(range2)+'\\nvariance = '+str(var2)+'\\nmedian = '+str(median2)+'\\nmean = '+str(mean2)+'\\nq1 = '+str(q12)+'\\nq3 = '+str(q32)+'\\ninterquartile range = '+str(iqr2)+'\\n\\nz-score = '+str(zscore2))\n",
        "math.sqrt(var2)"
      ],
      "metadata": {
        "colab": {
          "base_uri": "https://localhost:8080/"
        },
        "id": "Vq7P95aPNs7Q",
        "outputId": "e3b4c373-bd09-46be-c7a0-83664807625d"
      },
      "execution_count": 20,
      "outputs": [
        {
          "output_type": "stream",
          "name": "stdout",
          "text": [
            "Statistical summary of BEST_BID_PRICE column:\n",
            "\n",
            "Range = 38.5\n",
            "variance = 2.252490778734207\n",
            "median = 1.68\n",
            "mean = 2.1134213908325004\n",
            "q1 = 1.55\n",
            "q3 = 2.04\n",
            "interquartile range = 0.49\n",
            "\n",
            "z-score = 0        0.678523\n",
            "1       -0.167018\n",
            "2       -0.318007\n",
            "3       -0.348205\n",
            "4       -0.257611\n",
            "           ...   \n",
            "28007   -0.046226\n",
            "28008   -0.393502\n",
            "28009   -0.212314\n",
            "28010   -0.408601\n",
            "28011    8.152497\n",
            "Name: NO_OF_TRADES, Length: 28012, dtype: float64\n"
          ]
        },
        {
          "output_type": "execute_result",
          "data": {
            "text/plain": [
              "1.5008300299281752"
            ]
          },
          "metadata": {},
          "execution_count": 20
        }
      ]
    },
    {
      "cell_type": "code",
      "source": [
        "contingency_table=pd.crosstab(\n",
        "    index=df['MARKET'],\n",
        "    columns=df['SYMBOL1'],\n",
        "    margins=True\n",
        ")\n",
        "contingency_table"
      ],
      "metadata": {
        "colab": {
          "base_uri": "https://localhost:8080/",
          "height": 299
        },
        "id": "Dr36piA1n3rE",
        "outputId": "6fa81169-0e27-4ac6-fb33-062dc5974383"
      },
      "execution_count": 21,
      "outputs": [
        {
          "output_type": "execute_result",
          "data": {
            "text/plain": [
              "SYMBOL1  AAIN  AALU  ABCO  ABLA  ABMS  ABUS  ACDT  AEIN  AEIV  AHLI  ...  \\\n",
              "MARKET                                                               ...   \n",
              "0           0     0     0   190     0     0     0   169     0     0  ...   \n",
              "1          33    89   197     0     0     0     0     0     0   247  ...   \n",
              "2           0    26     0     0    14   223   128     0   214     0  ...   \n",
              "All        33   115   197   190    14   223   128   169   214   247  ...   \n",
              "\n",
              "SYMBOL1  UNAI  UNIN  UTOB  VFED  WIRE  WIVA  WOOD  ZARA  ZEIC    All  \n",
              "MARKET                                                                \n",
              "0           0     0     0     0     0     0     2     0     0   4569  \n",
              "1           0    16     0     0     0     0     0     0   108   8064  \n",
              "2         246     0   195    60   205   175     0   106     0  15379  \n",
              "All       246    16   195    60   205   175     2   106   108  28012  \n",
              "\n",
              "[4 rows x 214 columns]"
            ],
            "text/html": [
              "\n",
              "  <div id=\"df-16ef5181-8e68-4574-a179-22fe8bc6f656\">\n",
              "    <div class=\"colab-df-container\">\n",
              "      <div>\n",
              "<style scoped>\n",
              "    .dataframe tbody tr th:only-of-type {\n",
              "        vertical-align: middle;\n",
              "    }\n",
              "\n",
              "    .dataframe tbody tr th {\n",
              "        vertical-align: top;\n",
              "    }\n",
              "\n",
              "    .dataframe thead th {\n",
              "        text-align: right;\n",
              "    }\n",
              "</style>\n",
              "<table border=\"1\" class=\"dataframe\">\n",
              "  <thead>\n",
              "    <tr style=\"text-align: right;\">\n",
              "      <th>SYMBOL1</th>\n",
              "      <th>AAIN</th>\n",
              "      <th>AALU</th>\n",
              "      <th>ABCO</th>\n",
              "      <th>ABLA</th>\n",
              "      <th>ABMS</th>\n",
              "      <th>ABUS</th>\n",
              "      <th>ACDT</th>\n",
              "      <th>AEIN</th>\n",
              "      <th>AEIV</th>\n",
              "      <th>AHLI</th>\n",
              "      <th>...</th>\n",
              "      <th>UNAI</th>\n",
              "      <th>UNIN</th>\n",
              "      <th>UTOB</th>\n",
              "      <th>VFED</th>\n",
              "      <th>WIRE</th>\n",
              "      <th>WIVA</th>\n",
              "      <th>WOOD</th>\n",
              "      <th>ZARA</th>\n",
              "      <th>ZEIC</th>\n",
              "      <th>All</th>\n",
              "    </tr>\n",
              "    <tr>\n",
              "      <th>MARKET</th>\n",
              "      <th></th>\n",
              "      <th></th>\n",
              "      <th></th>\n",
              "      <th></th>\n",
              "      <th></th>\n",
              "      <th></th>\n",
              "      <th></th>\n",
              "      <th></th>\n",
              "      <th></th>\n",
              "      <th></th>\n",
              "      <th></th>\n",
              "      <th></th>\n",
              "      <th></th>\n",
              "      <th></th>\n",
              "      <th></th>\n",
              "      <th></th>\n",
              "      <th></th>\n",
              "      <th></th>\n",
              "      <th></th>\n",
              "      <th></th>\n",
              "      <th></th>\n",
              "    </tr>\n",
              "  </thead>\n",
              "  <tbody>\n",
              "    <tr>\n",
              "      <th>0</th>\n",
              "      <td>0</td>\n",
              "      <td>0</td>\n",
              "      <td>0</td>\n",
              "      <td>190</td>\n",
              "      <td>0</td>\n",
              "      <td>0</td>\n",
              "      <td>0</td>\n",
              "      <td>169</td>\n",
              "      <td>0</td>\n",
              "      <td>0</td>\n",
              "      <td>...</td>\n",
              "      <td>0</td>\n",
              "      <td>0</td>\n",
              "      <td>0</td>\n",
              "      <td>0</td>\n",
              "      <td>0</td>\n",
              "      <td>0</td>\n",
              "      <td>2</td>\n",
              "      <td>0</td>\n",
              "      <td>0</td>\n",
              "      <td>4569</td>\n",
              "    </tr>\n",
              "    <tr>\n",
              "      <th>1</th>\n",
              "      <td>33</td>\n",
              "      <td>89</td>\n",
              "      <td>197</td>\n",
              "      <td>0</td>\n",
              "      <td>0</td>\n",
              "      <td>0</td>\n",
              "      <td>0</td>\n",
              "      <td>0</td>\n",
              "      <td>0</td>\n",
              "      <td>247</td>\n",
              "      <td>...</td>\n",
              "      <td>0</td>\n",
              "      <td>16</td>\n",
              "      <td>0</td>\n",
              "      <td>0</td>\n",
              "      <td>0</td>\n",
              "      <td>0</td>\n",
              "      <td>0</td>\n",
              "      <td>0</td>\n",
              "      <td>108</td>\n",
              "      <td>8064</td>\n",
              "    </tr>\n",
              "    <tr>\n",
              "      <th>2</th>\n",
              "      <td>0</td>\n",
              "      <td>26</td>\n",
              "      <td>0</td>\n",
              "      <td>0</td>\n",
              "      <td>14</td>\n",
              "      <td>223</td>\n",
              "      <td>128</td>\n",
              "      <td>0</td>\n",
              "      <td>214</td>\n",
              "      <td>0</td>\n",
              "      <td>...</td>\n",
              "      <td>246</td>\n",
              "      <td>0</td>\n",
              "      <td>195</td>\n",
              "      <td>60</td>\n",
              "      <td>205</td>\n",
              "      <td>175</td>\n",
              "      <td>0</td>\n",
              "      <td>106</td>\n",
              "      <td>0</td>\n",
              "      <td>15379</td>\n",
              "    </tr>\n",
              "    <tr>\n",
              "      <th>All</th>\n",
              "      <td>33</td>\n",
              "      <td>115</td>\n",
              "      <td>197</td>\n",
              "      <td>190</td>\n",
              "      <td>14</td>\n",
              "      <td>223</td>\n",
              "      <td>128</td>\n",
              "      <td>169</td>\n",
              "      <td>214</td>\n",
              "      <td>247</td>\n",
              "      <td>...</td>\n",
              "      <td>246</td>\n",
              "      <td>16</td>\n",
              "      <td>195</td>\n",
              "      <td>60</td>\n",
              "      <td>205</td>\n",
              "      <td>175</td>\n",
              "      <td>2</td>\n",
              "      <td>106</td>\n",
              "      <td>108</td>\n",
              "      <td>28012</td>\n",
              "    </tr>\n",
              "  </tbody>\n",
              "</table>\n",
              "<p>4 rows × 214 columns</p>\n",
              "</div>\n",
              "      <button class=\"colab-df-convert\" onclick=\"convertToInteractive('df-16ef5181-8e68-4574-a179-22fe8bc6f656')\"\n",
              "              title=\"Convert this dataframe to an interactive table.\"\n",
              "              style=\"display:none;\">\n",
              "        \n",
              "  <svg xmlns=\"http://www.w3.org/2000/svg\" height=\"24px\"viewBox=\"0 0 24 24\"\n",
              "       width=\"24px\">\n",
              "    <path d=\"M0 0h24v24H0V0z\" fill=\"none\"/>\n",
              "    <path d=\"M18.56 5.44l.94 2.06.94-2.06 2.06-.94-2.06-.94-.94-2.06-.94 2.06-2.06.94zm-11 1L8.5 8.5l.94-2.06 2.06-.94-2.06-.94L8.5 2.5l-.94 2.06-2.06.94zm10 10l.94 2.06.94-2.06 2.06-.94-2.06-.94-.94-2.06-.94 2.06-2.06.94z\"/><path d=\"M17.41 7.96l-1.37-1.37c-.4-.4-.92-.59-1.43-.59-.52 0-1.04.2-1.43.59L10.3 9.45l-7.72 7.72c-.78.78-.78 2.05 0 2.83L4 21.41c.39.39.9.59 1.41.59.51 0 1.02-.2 1.41-.59l7.78-7.78 2.81-2.81c.8-.78.8-2.07 0-2.86zM5.41 20L4 18.59l7.72-7.72 1.47 1.35L5.41 20z\"/>\n",
              "  </svg>\n",
              "      </button>\n",
              "      \n",
              "  <style>\n",
              "    .colab-df-container {\n",
              "      display:flex;\n",
              "      flex-wrap:wrap;\n",
              "      gap: 12px;\n",
              "    }\n",
              "\n",
              "    .colab-df-convert {\n",
              "      background-color: #E8F0FE;\n",
              "      border: none;\n",
              "      border-radius: 50%;\n",
              "      cursor: pointer;\n",
              "      display: none;\n",
              "      fill: #1967D2;\n",
              "      height: 32px;\n",
              "      padding: 0 0 0 0;\n",
              "      width: 32px;\n",
              "    }\n",
              "\n",
              "    .colab-df-convert:hover {\n",
              "      background-color: #E2EBFA;\n",
              "      box-shadow: 0px 1px 2px rgba(60, 64, 67, 0.3), 0px 1px 3px 1px rgba(60, 64, 67, 0.15);\n",
              "      fill: #174EA6;\n",
              "    }\n",
              "\n",
              "    [theme=dark] .colab-df-convert {\n",
              "      background-color: #3B4455;\n",
              "      fill: #D2E3FC;\n",
              "    }\n",
              "\n",
              "    [theme=dark] .colab-df-convert:hover {\n",
              "      background-color: #434B5C;\n",
              "      box-shadow: 0px 1px 3px 1px rgba(0, 0, 0, 0.15);\n",
              "      filter: drop-shadow(0px 1px 2px rgba(0, 0, 0, 0.3));\n",
              "      fill: #FFFFFF;\n",
              "    }\n",
              "  </style>\n",
              "\n",
              "      <script>\n",
              "        const buttonEl =\n",
              "          document.querySelector('#df-16ef5181-8e68-4574-a179-22fe8bc6f656 button.colab-df-convert');\n",
              "        buttonEl.style.display =\n",
              "          google.colab.kernel.accessAllowed ? 'block' : 'none';\n",
              "\n",
              "        async function convertToInteractive(key) {\n",
              "          const element = document.querySelector('#df-16ef5181-8e68-4574-a179-22fe8bc6f656');\n",
              "          const dataTable =\n",
              "            await google.colab.kernel.invokeFunction('convertToInteractive',\n",
              "                                                     [key], {});\n",
              "          if (!dataTable) return;\n",
              "\n",
              "          const docLinkHtml = 'Like what you see? Visit the ' +\n",
              "            '<a target=\"_blank\" href=https://colab.research.google.com/notebooks/data_table.ipynb>data table notebook</a>'\n",
              "            + ' to learn more about interactive tables.';\n",
              "          element.innerHTML = '';\n",
              "          dataTable['output_type'] = 'display_data';\n",
              "          await google.colab.output.renderOutput(dataTable, element);\n",
              "          const docLink = document.createElement('div');\n",
              "          docLink.innerHTML = docLinkHtml;\n",
              "          element.appendChild(docLink);\n",
              "        }\n",
              "      </script>\n",
              "    </div>\n",
              "  </div>\n",
              "  "
            ]
          },
          "metadata": {},
          "execution_count": 21
        }
      ]
    },
    {
      "cell_type": "code",
      "source": [
        "row_percentages = df[['SYMBOL1','MARKET']].apply(lambda x: x.value_counts(normalize=True) * 100)\n",
        "row_percentages"
      ],
      "metadata": {
        "colab": {
          "base_uri": "https://localhost:8080/",
          "height": 423
        },
        "id": "t0wB5AUoqLlV",
        "outputId": "e48806f1-542f-4673-f1a5-b6c4197d7b66"
      },
      "execution_count": 22,
      "outputs": [
        {
          "output_type": "execute_result",
          "data": {
            "text/plain": [
              "       SYMBOL1     MARKET\n",
              "0          NaN  16.310867\n",
              "1          NaN  28.787662\n",
              "2          NaN  54.901471\n",
              "AAIN  0.117807        NaN\n",
              "AALU  0.410538        NaN\n",
              "...        ...        ...\n",
              "WIRE  0.731829        NaN\n",
              "WIVA  0.624732        NaN\n",
              "WOOD  0.007140        NaN\n",
              "ZARA  0.378409        NaN\n",
              "ZEIC  0.385549        NaN\n",
              "\n",
              "[216 rows x 2 columns]"
            ],
            "text/html": [
              "\n",
              "  <div id=\"df-7c4014bc-33da-4a74-a2b2-de7ad2c31419\">\n",
              "    <div class=\"colab-df-container\">\n",
              "      <div>\n",
              "<style scoped>\n",
              "    .dataframe tbody tr th:only-of-type {\n",
              "        vertical-align: middle;\n",
              "    }\n",
              "\n",
              "    .dataframe tbody tr th {\n",
              "        vertical-align: top;\n",
              "    }\n",
              "\n",
              "    .dataframe thead th {\n",
              "        text-align: right;\n",
              "    }\n",
              "</style>\n",
              "<table border=\"1\" class=\"dataframe\">\n",
              "  <thead>\n",
              "    <tr style=\"text-align: right;\">\n",
              "      <th></th>\n",
              "      <th>SYMBOL1</th>\n",
              "      <th>MARKET</th>\n",
              "    </tr>\n",
              "  </thead>\n",
              "  <tbody>\n",
              "    <tr>\n",
              "      <th>0</th>\n",
              "      <td>NaN</td>\n",
              "      <td>16.310867</td>\n",
              "    </tr>\n",
              "    <tr>\n",
              "      <th>1</th>\n",
              "      <td>NaN</td>\n",
              "      <td>28.787662</td>\n",
              "    </tr>\n",
              "    <tr>\n",
              "      <th>2</th>\n",
              "      <td>NaN</td>\n",
              "      <td>54.901471</td>\n",
              "    </tr>\n",
              "    <tr>\n",
              "      <th>AAIN</th>\n",
              "      <td>0.117807</td>\n",
              "      <td>NaN</td>\n",
              "    </tr>\n",
              "    <tr>\n",
              "      <th>AALU</th>\n",
              "      <td>0.410538</td>\n",
              "      <td>NaN</td>\n",
              "    </tr>\n",
              "    <tr>\n",
              "      <th>...</th>\n",
              "      <td>...</td>\n",
              "      <td>...</td>\n",
              "    </tr>\n",
              "    <tr>\n",
              "      <th>WIRE</th>\n",
              "      <td>0.731829</td>\n",
              "      <td>NaN</td>\n",
              "    </tr>\n",
              "    <tr>\n",
              "      <th>WIVA</th>\n",
              "      <td>0.624732</td>\n",
              "      <td>NaN</td>\n",
              "    </tr>\n",
              "    <tr>\n",
              "      <th>WOOD</th>\n",
              "      <td>0.007140</td>\n",
              "      <td>NaN</td>\n",
              "    </tr>\n",
              "    <tr>\n",
              "      <th>ZARA</th>\n",
              "      <td>0.378409</td>\n",
              "      <td>NaN</td>\n",
              "    </tr>\n",
              "    <tr>\n",
              "      <th>ZEIC</th>\n",
              "      <td>0.385549</td>\n",
              "      <td>NaN</td>\n",
              "    </tr>\n",
              "  </tbody>\n",
              "</table>\n",
              "<p>216 rows × 2 columns</p>\n",
              "</div>\n",
              "      <button class=\"colab-df-convert\" onclick=\"convertToInteractive('df-7c4014bc-33da-4a74-a2b2-de7ad2c31419')\"\n",
              "              title=\"Convert this dataframe to an interactive table.\"\n",
              "              style=\"display:none;\">\n",
              "        \n",
              "  <svg xmlns=\"http://www.w3.org/2000/svg\" height=\"24px\"viewBox=\"0 0 24 24\"\n",
              "       width=\"24px\">\n",
              "    <path d=\"M0 0h24v24H0V0z\" fill=\"none\"/>\n",
              "    <path d=\"M18.56 5.44l.94 2.06.94-2.06 2.06-.94-2.06-.94-.94-2.06-.94 2.06-2.06.94zm-11 1L8.5 8.5l.94-2.06 2.06-.94-2.06-.94L8.5 2.5l-.94 2.06-2.06.94zm10 10l.94 2.06.94-2.06 2.06-.94-2.06-.94-.94-2.06-.94 2.06-2.06.94z\"/><path d=\"M17.41 7.96l-1.37-1.37c-.4-.4-.92-.59-1.43-.59-.52 0-1.04.2-1.43.59L10.3 9.45l-7.72 7.72c-.78.78-.78 2.05 0 2.83L4 21.41c.39.39.9.59 1.41.59.51 0 1.02-.2 1.41-.59l7.78-7.78 2.81-2.81c.8-.78.8-2.07 0-2.86zM5.41 20L4 18.59l7.72-7.72 1.47 1.35L5.41 20z\"/>\n",
              "  </svg>\n",
              "      </button>\n",
              "      \n",
              "  <style>\n",
              "    .colab-df-container {\n",
              "      display:flex;\n",
              "      flex-wrap:wrap;\n",
              "      gap: 12px;\n",
              "    }\n",
              "\n",
              "    .colab-df-convert {\n",
              "      background-color: #E8F0FE;\n",
              "      border: none;\n",
              "      border-radius: 50%;\n",
              "      cursor: pointer;\n",
              "      display: none;\n",
              "      fill: #1967D2;\n",
              "      height: 32px;\n",
              "      padding: 0 0 0 0;\n",
              "      width: 32px;\n",
              "    }\n",
              "\n",
              "    .colab-df-convert:hover {\n",
              "      background-color: #E2EBFA;\n",
              "      box-shadow: 0px 1px 2px rgba(60, 64, 67, 0.3), 0px 1px 3px 1px rgba(60, 64, 67, 0.15);\n",
              "      fill: #174EA6;\n",
              "    }\n",
              "\n",
              "    [theme=dark] .colab-df-convert {\n",
              "      background-color: #3B4455;\n",
              "      fill: #D2E3FC;\n",
              "    }\n",
              "\n",
              "    [theme=dark] .colab-df-convert:hover {\n",
              "      background-color: #434B5C;\n",
              "      box-shadow: 0px 1px 3px 1px rgba(0, 0, 0, 0.15);\n",
              "      filter: drop-shadow(0px 1px 2px rgba(0, 0, 0, 0.3));\n",
              "      fill: #FFFFFF;\n",
              "    }\n",
              "  </style>\n",
              "\n",
              "      <script>\n",
              "        const buttonEl =\n",
              "          document.querySelector('#df-7c4014bc-33da-4a74-a2b2-de7ad2c31419 button.colab-df-convert');\n",
              "        buttonEl.style.display =\n",
              "          google.colab.kernel.accessAllowed ? 'block' : 'none';\n",
              "\n",
              "        async function convertToInteractive(key) {\n",
              "          const element = document.querySelector('#df-7c4014bc-33da-4a74-a2b2-de7ad2c31419');\n",
              "          const dataTable =\n",
              "            await google.colab.kernel.invokeFunction('convertToInteractive',\n",
              "                                                     [key], {});\n",
              "          if (!dataTable) return;\n",
              "\n",
              "          const docLinkHtml = 'Like what you see? Visit the ' +\n",
              "            '<a target=\"_blank\" href=https://colab.research.google.com/notebooks/data_table.ipynb>data table notebook</a>'\n",
              "            + ' to learn more about interactive tables.';\n",
              "          element.innerHTML = '';\n",
              "          dataTable['output_type'] = 'display_data';\n",
              "          await google.colab.output.renderOutput(dataTable, element);\n",
              "          const docLink = document.createElement('div');\n",
              "          docLink.innerHTML = docLinkHtml;\n",
              "          element.appendChild(docLink);\n",
              "        }\n",
              "      </script>\n",
              "    </div>\n",
              "  </div>\n",
              "  "
            ]
          },
          "metadata": {},
          "execution_count": 22
        }
      ]
    },
    {
      "cell_type": "markdown",
      "source": [
        "predictive model"
      ],
      "metadata": {
        "id": "zda52PZwxLc5"
      }
    },
    {
      "cell_type": "code",
      "source": [
        "from sklearn.preprocessing import LabelEncoder\n",
        "label=LabelEncoder()\n",
        "df['TRADE_DATE']=label.fit_transform(df['TRADE_DATE'])\n",
        "df['SYMBOL1']=label.fit_transform(df['SYMBOL1'])\n",
        "\n",
        "df2['TRADE_DATE']=label.fit_transform(df2['TRADE_DATE'])\n",
        "df2['SYMBOL1']=label.fit_transform(df2['SYMBOL1'])\n",
        "df2"
      ],
      "metadata": {
        "id": "Qsrsdzz2z4e1",
        "colab": {
          "base_uri": "https://localhost:8080/",
          "height": 487
        },
        "outputId": "ec2917f8-821f-4863-de30-ab99e2d328b4"
      },
      "execution_count": 23,
      "outputs": [
        {
          "output_type": "execute_result",
          "data": {
            "text/plain": [
              "       TRADE_DATE  SEC_CODE  SYMBOL1  MARKET      VOLUME  TRADE_QTY  \\\n",
              "0               0    111001      107       1   199083.73      54378   \n",
              "1               0    111002      112       1    12707.76       9009   \n",
              "2               0    111003       87       2      727.41        726   \n",
              "3               0    111004      192       1     1558.10        394   \n",
              "4               0    111006      183       1    29030.98      14867   \n",
              "...           ...       ...      ...     ...         ...        ...   \n",
              "28007         247    141214       34       2  1025509.50    1981726   \n",
              "28008         247    141215      200       2      154.70        455   \n",
              "28009         247    141223      178       2    57426.99      10276   \n",
              "28010         247    141224      151       1     1135.00        500   \n",
              "28011         247    142041      119       1   921007.59     170828   \n",
              "\n",
              "       NO_OF_TRADES   LOW  BEST_ASK_PRICE  BEST_ASK_QTY  BEST_BID_PRICE  \\\n",
              "0                73  3.65            2.65         585.0            3.13   \n",
              "1                17  1.41            1.36         493.0            1.86   \n",
              "2                 7  1.00            1.14        1853.0            1.64   \n",
              "3                 5  3.95            1.09         660.0            1.59   \n",
              "4                11  1.95            1.23        1000.0            1.73   \n",
              "...             ...   ...             ...           ...             ...   \n",
              "28007            25  0.51            1.55        2462.0            2.04   \n",
              "28008             2  0.34            1.02        6959.0            1.52   \n",
              "28009            14  5.35            1.29          70.0            1.79   \n",
              "28010             1  2.27            1.00         500.0            1.50   \n",
              "28011           568  5.24           14.02        1048.0           14.35   \n",
              "\n",
              "       BEST_BID_QTY  \n",
              "0            2000.0  \n",
              "1            1570.0  \n",
              "2            1000.0  \n",
              "3              46.0  \n",
              "4             333.0  \n",
              "...             ...  \n",
              "28007           0.0  \n",
              "28008       14710.0  \n",
              "28009           0.0  \n",
              "28010         500.0  \n",
              "28011          20.0  \n",
              "\n",
              "[28012 rows x 12 columns]"
            ],
            "text/html": [
              "\n",
              "  <div id=\"df-b79647fe-5045-4f6f-8b2a-d46a674a438e\">\n",
              "    <div class=\"colab-df-container\">\n",
              "      <div>\n",
              "<style scoped>\n",
              "    .dataframe tbody tr th:only-of-type {\n",
              "        vertical-align: middle;\n",
              "    }\n",
              "\n",
              "    .dataframe tbody tr th {\n",
              "        vertical-align: top;\n",
              "    }\n",
              "\n",
              "    .dataframe thead th {\n",
              "        text-align: right;\n",
              "    }\n",
              "</style>\n",
              "<table border=\"1\" class=\"dataframe\">\n",
              "  <thead>\n",
              "    <tr style=\"text-align: right;\">\n",
              "      <th></th>\n",
              "      <th>TRADE_DATE</th>\n",
              "      <th>SEC_CODE</th>\n",
              "      <th>SYMBOL1</th>\n",
              "      <th>MARKET</th>\n",
              "      <th>VOLUME</th>\n",
              "      <th>TRADE_QTY</th>\n",
              "      <th>NO_OF_TRADES</th>\n",
              "      <th>LOW</th>\n",
              "      <th>BEST_ASK_PRICE</th>\n",
              "      <th>BEST_ASK_QTY</th>\n",
              "      <th>BEST_BID_PRICE</th>\n",
              "      <th>BEST_BID_QTY</th>\n",
              "    </tr>\n",
              "  </thead>\n",
              "  <tbody>\n",
              "    <tr>\n",
              "      <th>0</th>\n",
              "      <td>0</td>\n",
              "      <td>111001</td>\n",
              "      <td>107</td>\n",
              "      <td>1</td>\n",
              "      <td>199083.73</td>\n",
              "      <td>54378</td>\n",
              "      <td>73</td>\n",
              "      <td>3.65</td>\n",
              "      <td>2.65</td>\n",
              "      <td>585.0</td>\n",
              "      <td>3.13</td>\n",
              "      <td>2000.0</td>\n",
              "    </tr>\n",
              "    <tr>\n",
              "      <th>1</th>\n",
              "      <td>0</td>\n",
              "      <td>111002</td>\n",
              "      <td>112</td>\n",
              "      <td>1</td>\n",
              "      <td>12707.76</td>\n",
              "      <td>9009</td>\n",
              "      <td>17</td>\n",
              "      <td>1.41</td>\n",
              "      <td>1.36</td>\n",
              "      <td>493.0</td>\n",
              "      <td>1.86</td>\n",
              "      <td>1570.0</td>\n",
              "    </tr>\n",
              "    <tr>\n",
              "      <th>2</th>\n",
              "      <td>0</td>\n",
              "      <td>111003</td>\n",
              "      <td>87</td>\n",
              "      <td>2</td>\n",
              "      <td>727.41</td>\n",
              "      <td>726</td>\n",
              "      <td>7</td>\n",
              "      <td>1.00</td>\n",
              "      <td>1.14</td>\n",
              "      <td>1853.0</td>\n",
              "      <td>1.64</td>\n",
              "      <td>1000.0</td>\n",
              "    </tr>\n",
              "    <tr>\n",
              "      <th>3</th>\n",
              "      <td>0</td>\n",
              "      <td>111004</td>\n",
              "      <td>192</td>\n",
              "      <td>1</td>\n",
              "      <td>1558.10</td>\n",
              "      <td>394</td>\n",
              "      <td>5</td>\n",
              "      <td>3.95</td>\n",
              "      <td>1.09</td>\n",
              "      <td>660.0</td>\n",
              "      <td>1.59</td>\n",
              "      <td>46.0</td>\n",
              "    </tr>\n",
              "    <tr>\n",
              "      <th>4</th>\n",
              "      <td>0</td>\n",
              "      <td>111006</td>\n",
              "      <td>183</td>\n",
              "      <td>1</td>\n",
              "      <td>29030.98</td>\n",
              "      <td>14867</td>\n",
              "      <td>11</td>\n",
              "      <td>1.95</td>\n",
              "      <td>1.23</td>\n",
              "      <td>1000.0</td>\n",
              "      <td>1.73</td>\n",
              "      <td>333.0</td>\n",
              "    </tr>\n",
              "    <tr>\n",
              "      <th>...</th>\n",
              "      <td>...</td>\n",
              "      <td>...</td>\n",
              "      <td>...</td>\n",
              "      <td>...</td>\n",
              "      <td>...</td>\n",
              "      <td>...</td>\n",
              "      <td>...</td>\n",
              "      <td>...</td>\n",
              "      <td>...</td>\n",
              "      <td>...</td>\n",
              "      <td>...</td>\n",
              "      <td>...</td>\n",
              "    </tr>\n",
              "    <tr>\n",
              "      <th>28007</th>\n",
              "      <td>247</td>\n",
              "      <td>141214</td>\n",
              "      <td>34</td>\n",
              "      <td>2</td>\n",
              "      <td>1025509.50</td>\n",
              "      <td>1981726</td>\n",
              "      <td>25</td>\n",
              "      <td>0.51</td>\n",
              "      <td>1.55</td>\n",
              "      <td>2462.0</td>\n",
              "      <td>2.04</td>\n",
              "      <td>0.0</td>\n",
              "    </tr>\n",
              "    <tr>\n",
              "      <th>28008</th>\n",
              "      <td>247</td>\n",
              "      <td>141215</td>\n",
              "      <td>200</td>\n",
              "      <td>2</td>\n",
              "      <td>154.70</td>\n",
              "      <td>455</td>\n",
              "      <td>2</td>\n",
              "      <td>0.34</td>\n",
              "      <td>1.02</td>\n",
              "      <td>6959.0</td>\n",
              "      <td>1.52</td>\n",
              "      <td>14710.0</td>\n",
              "    </tr>\n",
              "    <tr>\n",
              "      <th>28009</th>\n",
              "      <td>247</td>\n",
              "      <td>141223</td>\n",
              "      <td>178</td>\n",
              "      <td>2</td>\n",
              "      <td>57426.99</td>\n",
              "      <td>10276</td>\n",
              "      <td>14</td>\n",
              "      <td>5.35</td>\n",
              "      <td>1.29</td>\n",
              "      <td>70.0</td>\n",
              "      <td>1.79</td>\n",
              "      <td>0.0</td>\n",
              "    </tr>\n",
              "    <tr>\n",
              "      <th>28010</th>\n",
              "      <td>247</td>\n",
              "      <td>141224</td>\n",
              "      <td>151</td>\n",
              "      <td>1</td>\n",
              "      <td>1135.00</td>\n",
              "      <td>500</td>\n",
              "      <td>1</td>\n",
              "      <td>2.27</td>\n",
              "      <td>1.00</td>\n",
              "      <td>500.0</td>\n",
              "      <td>1.50</td>\n",
              "      <td>500.0</td>\n",
              "    </tr>\n",
              "    <tr>\n",
              "      <th>28011</th>\n",
              "      <td>247</td>\n",
              "      <td>142041</td>\n",
              "      <td>119</td>\n",
              "      <td>1</td>\n",
              "      <td>921007.59</td>\n",
              "      <td>170828</td>\n",
              "      <td>568</td>\n",
              "      <td>5.24</td>\n",
              "      <td>14.02</td>\n",
              "      <td>1048.0</td>\n",
              "      <td>14.35</td>\n",
              "      <td>20.0</td>\n",
              "    </tr>\n",
              "  </tbody>\n",
              "</table>\n",
              "<p>28012 rows × 12 columns</p>\n",
              "</div>\n",
              "      <button class=\"colab-df-convert\" onclick=\"convertToInteractive('df-b79647fe-5045-4f6f-8b2a-d46a674a438e')\"\n",
              "              title=\"Convert this dataframe to an interactive table.\"\n",
              "              style=\"display:none;\">\n",
              "        \n",
              "  <svg xmlns=\"http://www.w3.org/2000/svg\" height=\"24px\"viewBox=\"0 0 24 24\"\n",
              "       width=\"24px\">\n",
              "    <path d=\"M0 0h24v24H0V0z\" fill=\"none\"/>\n",
              "    <path d=\"M18.56 5.44l.94 2.06.94-2.06 2.06-.94-2.06-.94-.94-2.06-.94 2.06-2.06.94zm-11 1L8.5 8.5l.94-2.06 2.06-.94-2.06-.94L8.5 2.5l-.94 2.06-2.06.94zm10 10l.94 2.06.94-2.06 2.06-.94-2.06-.94-.94-2.06-.94 2.06-2.06.94z\"/><path d=\"M17.41 7.96l-1.37-1.37c-.4-.4-.92-.59-1.43-.59-.52 0-1.04.2-1.43.59L10.3 9.45l-7.72 7.72c-.78.78-.78 2.05 0 2.83L4 21.41c.39.39.9.59 1.41.59.51 0 1.02-.2 1.41-.59l7.78-7.78 2.81-2.81c.8-.78.8-2.07 0-2.86zM5.41 20L4 18.59l7.72-7.72 1.47 1.35L5.41 20z\"/>\n",
              "  </svg>\n",
              "      </button>\n",
              "      \n",
              "  <style>\n",
              "    .colab-df-container {\n",
              "      display:flex;\n",
              "      flex-wrap:wrap;\n",
              "      gap: 12px;\n",
              "    }\n",
              "\n",
              "    .colab-df-convert {\n",
              "      background-color: #E8F0FE;\n",
              "      border: none;\n",
              "      border-radius: 50%;\n",
              "      cursor: pointer;\n",
              "      display: none;\n",
              "      fill: #1967D2;\n",
              "      height: 32px;\n",
              "      padding: 0 0 0 0;\n",
              "      width: 32px;\n",
              "    }\n",
              "\n",
              "    .colab-df-convert:hover {\n",
              "      background-color: #E2EBFA;\n",
              "      box-shadow: 0px 1px 2px rgba(60, 64, 67, 0.3), 0px 1px 3px 1px rgba(60, 64, 67, 0.15);\n",
              "      fill: #174EA6;\n",
              "    }\n",
              "\n",
              "    [theme=dark] .colab-df-convert {\n",
              "      background-color: #3B4455;\n",
              "      fill: #D2E3FC;\n",
              "    }\n",
              "\n",
              "    [theme=dark] .colab-df-convert:hover {\n",
              "      background-color: #434B5C;\n",
              "      box-shadow: 0px 1px 3px 1px rgba(0, 0, 0, 0.15);\n",
              "      filter: drop-shadow(0px 1px 2px rgba(0, 0, 0, 0.3));\n",
              "      fill: #FFFFFF;\n",
              "    }\n",
              "  </style>\n",
              "\n",
              "      <script>\n",
              "        const buttonEl =\n",
              "          document.querySelector('#df-b79647fe-5045-4f6f-8b2a-d46a674a438e button.colab-df-convert');\n",
              "        buttonEl.style.display =\n",
              "          google.colab.kernel.accessAllowed ? 'block' : 'none';\n",
              "\n",
              "        async function convertToInteractive(key) {\n",
              "          const element = document.querySelector('#df-b79647fe-5045-4f6f-8b2a-d46a674a438e');\n",
              "          const dataTable =\n",
              "            await google.colab.kernel.invokeFunction('convertToInteractive',\n",
              "                                                     [key], {});\n",
              "          if (!dataTable) return;\n",
              "\n",
              "          const docLinkHtml = 'Like what you see? Visit the ' +\n",
              "            '<a target=\"_blank\" href=https://colab.research.google.com/notebooks/data_table.ipynb>data table notebook</a>'\n",
              "            + ' to learn more about interactive tables.';\n",
              "          element.innerHTML = '';\n",
              "          dataTable['output_type'] = 'display_data';\n",
              "          await google.colab.output.renderOutput(dataTable, element);\n",
              "          const docLink = document.createElement('div');\n",
              "          docLink.innerHTML = docLinkHtml;\n",
              "          element.appendChild(docLink);\n",
              "        }\n",
              "      </script>\n",
              "    </div>\n",
              "  </div>\n",
              "  "
            ]
          },
          "metadata": {},
          "execution_count": 23
        }
      ]
    },
    {
      "cell_type": "code",
      "source": [
        "x=df.drop(['HIGH'],axis=1)\n",
        "y=df['HIGH']\n",
        "x2=df2.drop(['LOW'],axis=1)\n",
        "y2=df2['LOW']\n",
        "x2"
      ],
      "metadata": {
        "id": "yuu43jVCwRGy",
        "colab": {
          "base_uri": "https://localhost:8080/",
          "height": 487
        },
        "outputId": "0543d262-bcbc-4cbe-d48f-d155ca83c109"
      },
      "execution_count": 24,
      "outputs": [
        {
          "output_type": "execute_result",
          "data": {
            "text/plain": [
              "       TRADE_DATE  SEC_CODE  SYMBOL1  MARKET      VOLUME  TRADE_QTY  \\\n",
              "0               0    111001      107       1   199083.73      54378   \n",
              "1               0    111002      112       1    12707.76       9009   \n",
              "2               0    111003       87       2      727.41        726   \n",
              "3               0    111004      192       1     1558.10        394   \n",
              "4               0    111006      183       1    29030.98      14867   \n",
              "...           ...       ...      ...     ...         ...        ...   \n",
              "28007         247    141214       34       2  1025509.50    1981726   \n",
              "28008         247    141215      200       2      154.70        455   \n",
              "28009         247    141223      178       2    57426.99      10276   \n",
              "28010         247    141224      151       1     1135.00        500   \n",
              "28011         247    142041      119       1   921007.59     170828   \n",
              "\n",
              "       NO_OF_TRADES  BEST_ASK_PRICE  BEST_ASK_QTY  BEST_BID_PRICE  \\\n",
              "0                73            2.65         585.0            3.13   \n",
              "1                17            1.36         493.0            1.86   \n",
              "2                 7            1.14        1853.0            1.64   \n",
              "3                 5            1.09         660.0            1.59   \n",
              "4                11            1.23        1000.0            1.73   \n",
              "...             ...             ...           ...             ...   \n",
              "28007            25            1.55        2462.0            2.04   \n",
              "28008             2            1.02        6959.0            1.52   \n",
              "28009            14            1.29          70.0            1.79   \n",
              "28010             1            1.00         500.0            1.50   \n",
              "28011           568           14.02        1048.0           14.35   \n",
              "\n",
              "       BEST_BID_QTY  \n",
              "0            2000.0  \n",
              "1            1570.0  \n",
              "2            1000.0  \n",
              "3              46.0  \n",
              "4             333.0  \n",
              "...             ...  \n",
              "28007           0.0  \n",
              "28008       14710.0  \n",
              "28009           0.0  \n",
              "28010         500.0  \n",
              "28011          20.0  \n",
              "\n",
              "[28012 rows x 11 columns]"
            ],
            "text/html": [
              "\n",
              "  <div id=\"df-2c6e3103-aa03-4d9b-b4de-373b7991aa62\">\n",
              "    <div class=\"colab-df-container\">\n",
              "      <div>\n",
              "<style scoped>\n",
              "    .dataframe tbody tr th:only-of-type {\n",
              "        vertical-align: middle;\n",
              "    }\n",
              "\n",
              "    .dataframe tbody tr th {\n",
              "        vertical-align: top;\n",
              "    }\n",
              "\n",
              "    .dataframe thead th {\n",
              "        text-align: right;\n",
              "    }\n",
              "</style>\n",
              "<table border=\"1\" class=\"dataframe\">\n",
              "  <thead>\n",
              "    <tr style=\"text-align: right;\">\n",
              "      <th></th>\n",
              "      <th>TRADE_DATE</th>\n",
              "      <th>SEC_CODE</th>\n",
              "      <th>SYMBOL1</th>\n",
              "      <th>MARKET</th>\n",
              "      <th>VOLUME</th>\n",
              "      <th>TRADE_QTY</th>\n",
              "      <th>NO_OF_TRADES</th>\n",
              "      <th>BEST_ASK_PRICE</th>\n",
              "      <th>BEST_ASK_QTY</th>\n",
              "      <th>BEST_BID_PRICE</th>\n",
              "      <th>BEST_BID_QTY</th>\n",
              "    </tr>\n",
              "  </thead>\n",
              "  <tbody>\n",
              "    <tr>\n",
              "      <th>0</th>\n",
              "      <td>0</td>\n",
              "      <td>111001</td>\n",
              "      <td>107</td>\n",
              "      <td>1</td>\n",
              "      <td>199083.73</td>\n",
              "      <td>54378</td>\n",
              "      <td>73</td>\n",
              "      <td>2.65</td>\n",
              "      <td>585.0</td>\n",
              "      <td>3.13</td>\n",
              "      <td>2000.0</td>\n",
              "    </tr>\n",
              "    <tr>\n",
              "      <th>1</th>\n",
              "      <td>0</td>\n",
              "      <td>111002</td>\n",
              "      <td>112</td>\n",
              "      <td>1</td>\n",
              "      <td>12707.76</td>\n",
              "      <td>9009</td>\n",
              "      <td>17</td>\n",
              "      <td>1.36</td>\n",
              "      <td>493.0</td>\n",
              "      <td>1.86</td>\n",
              "      <td>1570.0</td>\n",
              "    </tr>\n",
              "    <tr>\n",
              "      <th>2</th>\n",
              "      <td>0</td>\n",
              "      <td>111003</td>\n",
              "      <td>87</td>\n",
              "      <td>2</td>\n",
              "      <td>727.41</td>\n",
              "      <td>726</td>\n",
              "      <td>7</td>\n",
              "      <td>1.14</td>\n",
              "      <td>1853.0</td>\n",
              "      <td>1.64</td>\n",
              "      <td>1000.0</td>\n",
              "    </tr>\n",
              "    <tr>\n",
              "      <th>3</th>\n",
              "      <td>0</td>\n",
              "      <td>111004</td>\n",
              "      <td>192</td>\n",
              "      <td>1</td>\n",
              "      <td>1558.10</td>\n",
              "      <td>394</td>\n",
              "      <td>5</td>\n",
              "      <td>1.09</td>\n",
              "      <td>660.0</td>\n",
              "      <td>1.59</td>\n",
              "      <td>46.0</td>\n",
              "    </tr>\n",
              "    <tr>\n",
              "      <th>4</th>\n",
              "      <td>0</td>\n",
              "      <td>111006</td>\n",
              "      <td>183</td>\n",
              "      <td>1</td>\n",
              "      <td>29030.98</td>\n",
              "      <td>14867</td>\n",
              "      <td>11</td>\n",
              "      <td>1.23</td>\n",
              "      <td>1000.0</td>\n",
              "      <td>1.73</td>\n",
              "      <td>333.0</td>\n",
              "    </tr>\n",
              "    <tr>\n",
              "      <th>...</th>\n",
              "      <td>...</td>\n",
              "      <td>...</td>\n",
              "      <td>...</td>\n",
              "      <td>...</td>\n",
              "      <td>...</td>\n",
              "      <td>...</td>\n",
              "      <td>...</td>\n",
              "      <td>...</td>\n",
              "      <td>...</td>\n",
              "      <td>...</td>\n",
              "      <td>...</td>\n",
              "    </tr>\n",
              "    <tr>\n",
              "      <th>28007</th>\n",
              "      <td>247</td>\n",
              "      <td>141214</td>\n",
              "      <td>34</td>\n",
              "      <td>2</td>\n",
              "      <td>1025509.50</td>\n",
              "      <td>1981726</td>\n",
              "      <td>25</td>\n",
              "      <td>1.55</td>\n",
              "      <td>2462.0</td>\n",
              "      <td>2.04</td>\n",
              "      <td>0.0</td>\n",
              "    </tr>\n",
              "    <tr>\n",
              "      <th>28008</th>\n",
              "      <td>247</td>\n",
              "      <td>141215</td>\n",
              "      <td>200</td>\n",
              "      <td>2</td>\n",
              "      <td>154.70</td>\n",
              "      <td>455</td>\n",
              "      <td>2</td>\n",
              "      <td>1.02</td>\n",
              "      <td>6959.0</td>\n",
              "      <td>1.52</td>\n",
              "      <td>14710.0</td>\n",
              "    </tr>\n",
              "    <tr>\n",
              "      <th>28009</th>\n",
              "      <td>247</td>\n",
              "      <td>141223</td>\n",
              "      <td>178</td>\n",
              "      <td>2</td>\n",
              "      <td>57426.99</td>\n",
              "      <td>10276</td>\n",
              "      <td>14</td>\n",
              "      <td>1.29</td>\n",
              "      <td>70.0</td>\n",
              "      <td>1.79</td>\n",
              "      <td>0.0</td>\n",
              "    </tr>\n",
              "    <tr>\n",
              "      <th>28010</th>\n",
              "      <td>247</td>\n",
              "      <td>141224</td>\n",
              "      <td>151</td>\n",
              "      <td>1</td>\n",
              "      <td>1135.00</td>\n",
              "      <td>500</td>\n",
              "      <td>1</td>\n",
              "      <td>1.00</td>\n",
              "      <td>500.0</td>\n",
              "      <td>1.50</td>\n",
              "      <td>500.0</td>\n",
              "    </tr>\n",
              "    <tr>\n",
              "      <th>28011</th>\n",
              "      <td>247</td>\n",
              "      <td>142041</td>\n",
              "      <td>119</td>\n",
              "      <td>1</td>\n",
              "      <td>921007.59</td>\n",
              "      <td>170828</td>\n",
              "      <td>568</td>\n",
              "      <td>14.02</td>\n",
              "      <td>1048.0</td>\n",
              "      <td>14.35</td>\n",
              "      <td>20.0</td>\n",
              "    </tr>\n",
              "  </tbody>\n",
              "</table>\n",
              "<p>28012 rows × 11 columns</p>\n",
              "</div>\n",
              "      <button class=\"colab-df-convert\" onclick=\"convertToInteractive('df-2c6e3103-aa03-4d9b-b4de-373b7991aa62')\"\n",
              "              title=\"Convert this dataframe to an interactive table.\"\n",
              "              style=\"display:none;\">\n",
              "        \n",
              "  <svg xmlns=\"http://www.w3.org/2000/svg\" height=\"24px\"viewBox=\"0 0 24 24\"\n",
              "       width=\"24px\">\n",
              "    <path d=\"M0 0h24v24H0V0z\" fill=\"none\"/>\n",
              "    <path d=\"M18.56 5.44l.94 2.06.94-2.06 2.06-.94-2.06-.94-.94-2.06-.94 2.06-2.06.94zm-11 1L8.5 8.5l.94-2.06 2.06-.94-2.06-.94L8.5 2.5l-.94 2.06-2.06.94zm10 10l.94 2.06.94-2.06 2.06-.94-2.06-.94-.94-2.06-.94 2.06-2.06.94z\"/><path d=\"M17.41 7.96l-1.37-1.37c-.4-.4-.92-.59-1.43-.59-.52 0-1.04.2-1.43.59L10.3 9.45l-7.72 7.72c-.78.78-.78 2.05 0 2.83L4 21.41c.39.39.9.59 1.41.59.51 0 1.02-.2 1.41-.59l7.78-7.78 2.81-2.81c.8-.78.8-2.07 0-2.86zM5.41 20L4 18.59l7.72-7.72 1.47 1.35L5.41 20z\"/>\n",
              "  </svg>\n",
              "      </button>\n",
              "      \n",
              "  <style>\n",
              "    .colab-df-container {\n",
              "      display:flex;\n",
              "      flex-wrap:wrap;\n",
              "      gap: 12px;\n",
              "    }\n",
              "\n",
              "    .colab-df-convert {\n",
              "      background-color: #E8F0FE;\n",
              "      border: none;\n",
              "      border-radius: 50%;\n",
              "      cursor: pointer;\n",
              "      display: none;\n",
              "      fill: #1967D2;\n",
              "      height: 32px;\n",
              "      padding: 0 0 0 0;\n",
              "      width: 32px;\n",
              "    }\n",
              "\n",
              "    .colab-df-convert:hover {\n",
              "      background-color: #E2EBFA;\n",
              "      box-shadow: 0px 1px 2px rgba(60, 64, 67, 0.3), 0px 1px 3px 1px rgba(60, 64, 67, 0.15);\n",
              "      fill: #174EA6;\n",
              "    }\n",
              "\n",
              "    [theme=dark] .colab-df-convert {\n",
              "      background-color: #3B4455;\n",
              "      fill: #D2E3FC;\n",
              "    }\n",
              "\n",
              "    [theme=dark] .colab-df-convert:hover {\n",
              "      background-color: #434B5C;\n",
              "      box-shadow: 0px 1px 3px 1px rgba(0, 0, 0, 0.15);\n",
              "      filter: drop-shadow(0px 1px 2px rgba(0, 0, 0, 0.3));\n",
              "      fill: #FFFFFF;\n",
              "    }\n",
              "  </style>\n",
              "\n",
              "      <script>\n",
              "        const buttonEl =\n",
              "          document.querySelector('#df-2c6e3103-aa03-4d9b-b4de-373b7991aa62 button.colab-df-convert');\n",
              "        buttonEl.style.display =\n",
              "          google.colab.kernel.accessAllowed ? 'block' : 'none';\n",
              "\n",
              "        async function convertToInteractive(key) {\n",
              "          const element = document.querySelector('#df-2c6e3103-aa03-4d9b-b4de-373b7991aa62');\n",
              "          const dataTable =\n",
              "            await google.colab.kernel.invokeFunction('convertToInteractive',\n",
              "                                                     [key], {});\n",
              "          if (!dataTable) return;\n",
              "\n",
              "          const docLinkHtml = 'Like what you see? Visit the ' +\n",
              "            '<a target=\"_blank\" href=https://colab.research.google.com/notebooks/data_table.ipynb>data table notebook</a>'\n",
              "            + ' to learn more about interactive tables.';\n",
              "          element.innerHTML = '';\n",
              "          dataTable['output_type'] = 'display_data';\n",
              "          await google.colab.output.renderOutput(dataTable, element);\n",
              "          const docLink = document.createElement('div');\n",
              "          docLink.innerHTML = docLinkHtml;\n",
              "          element.appendChild(docLink);\n",
              "        }\n",
              "      </script>\n",
              "    </div>\n",
              "  </div>\n",
              "  "
            ]
          },
          "metadata": {},
          "execution_count": 24
        }
      ]
    },
    {
      "cell_type": "code",
      "source": [
        "from sklearn.model_selection import train_test_split\n",
        "X_train, X_test, y_train, y_test = train_test_split(x, y, test_size=0.33, random_state=42)\n",
        "# splitting data for the second dataset\n",
        "X_train2, X_test2, y_train2, y_test2 = train_test_split(x2, y2, test_size=0.33, random_state=42)"
      ],
      "metadata": {
        "id": "Hy88BfXGyc9T"
      },
      "execution_count": 25,
      "outputs": []
    },
    {
      "cell_type": "code",
      "source": [
        "from sklearn.linear_model import LinearRegression\n",
        "reg=LinearRegression()\n",
        "reg2=LinearRegression()\n",
        "reg3=LinearRegression()"
      ],
      "metadata": {
        "id": "Q3vdXTc1ysGn"
      },
      "execution_count": 26,
      "outputs": []
    },
    {
      "cell_type": "code",
      "source": [],
      "metadata": {
        "id": "UX4XXmMrxDDW"
      },
      "execution_count": 26,
      "outputs": []
    },
    {
      "cell_type": "markdown",
      "source": [
        "feature selection"
      ],
      "metadata": {
        "id": "bB1PnIcuATR1"
      }
    },
    {
      "cell_type": "code",
      "source": [
        "from sklearn.feature_selection import SequentialFeatureSelector\n",
        "seq=SequentialFeatureSelector(estimator=reg,n_features_to_select=10)\n",
        "X_Train_seq=seq.fit_transform(X_train,y_train)\n",
        "seq.get_feature_names_out()"
      ],
      "metadata": {
        "colab": {
          "base_uri": "https://localhost:8080/"
        },
        "id": "eh-oUeyKy5-G",
        "outputId": "6024d3ce-f506-43b9-b2a8-26adb9aaf337"
      },
      "execution_count": 27,
      "outputs": [
        {
          "output_type": "execute_result",
          "data": {
            "text/plain": [
              "array(['SEC_CODE', 'SYMBOL1', 'MARKET', 'VOLUME', 'TRADE_QTY',\n",
              "       'NO_OF_TRADES', 'BEST_ASK_PRICE', 'BEST_ASK_QTY', 'BEST_BID_PRICE',\n",
              "       'BEST_BID_QTY'], dtype=object)"
            ]
          },
          "metadata": {},
          "execution_count": 27
        }
      ]
    },
    {
      "cell_type": "code",
      "source": [
        "from sklearn.feature_selection import SelectKBest\n",
        "kbes=SelectKBest(k=8)\n",
        "X_Train_kbest=kbes.fit_transform(X_train,y_train)\n",
        "kbes.get_feature_names_out()"
      ],
      "metadata": {
        "id": "ZjID7aJgA5_y",
        "colab": {
          "base_uri": "https://localhost:8080/"
        },
        "outputId": "8a3d113f-95c3-412f-f782-3dc77330a5ee"
      },
      "execution_count": 28,
      "outputs": [
        {
          "output_type": "execute_result",
          "data": {
            "text/plain": [
              "array(['SEC_CODE', 'MARKET', 'VOLUME', 'NO_OF_TRADES', 'BEST_ASK_PRICE',\n",
              "       'BEST_ASK_QTY', 'BEST_BID_PRICE', 'BEST_BID_QTY'], dtype=object)"
            ]
          },
          "metadata": {},
          "execution_count": 28
        }
      ]
    },
    {
      "cell_type": "code",
      "source": [
        "from sklearn.feature_selection import VarianceThreshold\n",
        "var=VarianceThreshold(threshold=0.8)\n",
        "X_Train_var=var.fit_transform(X_train)\n",
        "var.get_feature_names_out()"
      ],
      "metadata": {
        "colab": {
          "base_uri": "https://localhost:8080/"
        },
        "id": "7joj8_pb7xq9",
        "outputId": "799a3beb-2581-4102-d2e9-647f5b30a30e"
      },
      "execution_count": 29,
      "outputs": [
        {
          "output_type": "execute_result",
          "data": {
            "text/plain": [
              "array(['TRADE_DATE', 'SEC_CODE', 'SYMBOL1', 'VOLUME', 'TRADE_QTY',\n",
              "       'NO_OF_TRADES', 'BEST_ASK_PRICE', 'BEST_ASK_QTY', 'BEST_BID_PRICE',\n",
              "       'BEST_BID_QTY'], dtype=object)"
            ]
          },
          "metadata": {},
          "execution_count": 29
        }
      ]
    },
    {
      "cell_type": "code",
      "source": [
        "reg.fit(X_Train_seq,y_train)\n",
        "reg2.fit(X_Train_kbest,y_train)\n",
        "reg3.fit(X_Train_var,y_train)"
      ],
      "metadata": {
        "colab": {
          "base_uri": "https://localhost:8080/",
          "height": 74
        },
        "id": "h8vKGjmjHvYk",
        "outputId": "c5dbcbd1-7982-4ffe-8297-4c53f8c2c1ae"
      },
      "execution_count": 30,
      "outputs": [
        {
          "output_type": "execute_result",
          "data": {
            "text/plain": [
              "LinearRegression()"
            ],
            "text/html": [
              "<style>#sk-container-id-1 {color: black;background-color: white;}#sk-container-id-1 pre{padding: 0;}#sk-container-id-1 div.sk-toggleable {background-color: white;}#sk-container-id-1 label.sk-toggleable__label {cursor: pointer;display: block;width: 100%;margin-bottom: 0;padding: 0.3em;box-sizing: border-box;text-align: center;}#sk-container-id-1 label.sk-toggleable__label-arrow:before {content: \"▸\";float: left;margin-right: 0.25em;color: #696969;}#sk-container-id-1 label.sk-toggleable__label-arrow:hover:before {color: black;}#sk-container-id-1 div.sk-estimator:hover label.sk-toggleable__label-arrow:before {color: black;}#sk-container-id-1 div.sk-toggleable__content {max-height: 0;max-width: 0;overflow: hidden;text-align: left;background-color: #f0f8ff;}#sk-container-id-1 div.sk-toggleable__content pre {margin: 0.2em;color: black;border-radius: 0.25em;background-color: #f0f8ff;}#sk-container-id-1 input.sk-toggleable__control:checked~div.sk-toggleable__content {max-height: 200px;max-width: 100%;overflow: auto;}#sk-container-id-1 input.sk-toggleable__control:checked~label.sk-toggleable__label-arrow:before {content: \"▾\";}#sk-container-id-1 div.sk-estimator input.sk-toggleable__control:checked~label.sk-toggleable__label {background-color: #d4ebff;}#sk-container-id-1 div.sk-label input.sk-toggleable__control:checked~label.sk-toggleable__label {background-color: #d4ebff;}#sk-container-id-1 input.sk-hidden--visually {border: 0;clip: rect(1px 1px 1px 1px);clip: rect(1px, 1px, 1px, 1px);height: 1px;margin: -1px;overflow: hidden;padding: 0;position: absolute;width: 1px;}#sk-container-id-1 div.sk-estimator {font-family: monospace;background-color: #f0f8ff;border: 1px dotted black;border-radius: 0.25em;box-sizing: border-box;margin-bottom: 0.5em;}#sk-container-id-1 div.sk-estimator:hover {background-color: #d4ebff;}#sk-container-id-1 div.sk-parallel-item::after {content: \"\";width: 100%;border-bottom: 1px solid gray;flex-grow: 1;}#sk-container-id-1 div.sk-label:hover label.sk-toggleable__label {background-color: #d4ebff;}#sk-container-id-1 div.sk-serial::before {content: \"\";position: absolute;border-left: 1px solid gray;box-sizing: border-box;top: 0;bottom: 0;left: 50%;z-index: 0;}#sk-container-id-1 div.sk-serial {display: flex;flex-direction: column;align-items: center;background-color: white;padding-right: 0.2em;padding-left: 0.2em;position: relative;}#sk-container-id-1 div.sk-item {position: relative;z-index: 1;}#sk-container-id-1 div.sk-parallel {display: flex;align-items: stretch;justify-content: center;background-color: white;position: relative;}#sk-container-id-1 div.sk-item::before, #sk-container-id-1 div.sk-parallel-item::before {content: \"\";position: absolute;border-left: 1px solid gray;box-sizing: border-box;top: 0;bottom: 0;left: 50%;z-index: -1;}#sk-container-id-1 div.sk-parallel-item {display: flex;flex-direction: column;z-index: 1;position: relative;background-color: white;}#sk-container-id-1 div.sk-parallel-item:first-child::after {align-self: flex-end;width: 50%;}#sk-container-id-1 div.sk-parallel-item:last-child::after {align-self: flex-start;width: 50%;}#sk-container-id-1 div.sk-parallel-item:only-child::after {width: 0;}#sk-container-id-1 div.sk-dashed-wrapped {border: 1px dashed gray;margin: 0 0.4em 0.5em 0.4em;box-sizing: border-box;padding-bottom: 0.4em;background-color: white;}#sk-container-id-1 div.sk-label label {font-family: monospace;font-weight: bold;display: inline-block;line-height: 1.2em;}#sk-container-id-1 div.sk-label-container {text-align: center;}#sk-container-id-1 div.sk-container {/* jupyter's `normalize.less` sets `[hidden] { display: none; }` but bootstrap.min.css set `[hidden] { display: none !important; }` so we also need the `!important` here to be able to override the default hidden behavior on the sphinx rendered scikit-learn.org. See: https://github.com/scikit-learn/scikit-learn/issues/21755 */display: inline-block !important;position: relative;}#sk-container-id-1 div.sk-text-repr-fallback {display: none;}</style><div id=\"sk-container-id-1\" class=\"sk-top-container\"><div class=\"sk-text-repr-fallback\"><pre>LinearRegression()</pre><b>In a Jupyter environment, please rerun this cell to show the HTML representation or trust the notebook. <br />On GitHub, the HTML representation is unable to render, please try loading this page with nbviewer.org.</b></div><div class=\"sk-container\" hidden><div class=\"sk-item\"><div class=\"sk-estimator sk-toggleable\"><input class=\"sk-toggleable__control sk-hidden--visually\" id=\"sk-estimator-id-1\" type=\"checkbox\" checked><label for=\"sk-estimator-id-1\" class=\"sk-toggleable__label sk-toggleable__label-arrow\">LinearRegression</label><div class=\"sk-toggleable__content\"><pre>LinearRegression()</pre></div></div></div></div></div>"
            ]
          },
          "metadata": {},
          "execution_count": 30
        }
      ]
    },
    {
      "cell_type": "code",
      "source": [
        "X_Test_seq=X_test[['SEC_CODE', 'SYMBOL1', 'MARKET', 'VOLUME', 'TRADE_QTY',\n",
        "       'NO_OF_TRADES', 'BEST_ASK_PRICE', 'BEST_ASK_QTY', 'BEST_BID_PRICE',\n",
        "       'BEST_BID_QTY']]"
      ],
      "metadata": {
        "id": "Ls4X_5UaIT4J"
      },
      "execution_count": 31,
      "outputs": []
    },
    {
      "cell_type": "code",
      "source": [
        "X_Test_kbest=X_test[['SEC_CODE', 'MARKET', 'VOLUME', 'NO_OF_TRADES', 'BEST_ASK_PRICE',\n",
        "       'BEST_ASK_QTY', 'BEST_BID_PRICE', 'BEST_BID_QTY']]"
      ],
      "metadata": {
        "id": "umIUhDnS_Q-X"
      },
      "execution_count": 32,
      "outputs": []
    },
    {
      "cell_type": "code",
      "source": [
        "X_Test_var=X_test[['TRADE_DATE', 'SEC_CODE', 'SYMBOL1', 'VOLUME', 'TRADE_QTY',\n",
        "       'NO_OF_TRADES', 'BEST_ASK_PRICE', 'BEST_ASK_QTY', 'BEST_BID_PRICE',\n",
        "       'BEST_BID_QTY']]"
      ],
      "metadata": {
        "id": "bBV-9mYr_p_O"
      },
      "execution_count": 33,
      "outputs": []
    },
    {
      "cell_type": "code",
      "source": [
        "pred_seq=reg.predict(X_Test_seq)\n",
        "pred_kbest=reg2.predict(X_Test_kbest)\n",
        "pred_var=reg3.predict(X_Test_var)"
      ],
      "metadata": {
        "colab": {
          "base_uri": "https://localhost:8080/"
        },
        "id": "tihO7ndgIBB8",
        "outputId": "3b61fde2-98e9-4225-fae0-a15160e201bd"
      },
      "execution_count": 34,
      "outputs": [
        {
          "output_type": "stream",
          "name": "stderr",
          "text": [
            "/usr/local/lib/python3.10/dist-packages/sklearn/base.py:432: UserWarning: X has feature names, but LinearRegression was fitted without feature names\n",
            "  warnings.warn(\n",
            "/usr/local/lib/python3.10/dist-packages/sklearn/base.py:432: UserWarning: X has feature names, but LinearRegression was fitted without feature names\n",
            "  warnings.warn(\n",
            "/usr/local/lib/python3.10/dist-packages/sklearn/base.py:432: UserWarning: X has feature names, but LinearRegression was fitted without feature names\n",
            "  warnings.warn(\n"
          ]
        }
      ]
    },
    {
      "cell_type": "code",
      "source": [
        "# metrics for the regression sequential feature selection\n",
        "\n",
        "r2_seq=r2_score(y_test,pred_seq)\n",
        "mae_seq=mean_absolute_error(y_test,pred_seq)\n",
        "mse_seq=mean_squared_error(y_test,pred_seq)\n",
        "rmse_seq=mean_squared_error(y_test,pred_seq,squared=False)\n",
        "\n",
        "# metrics for the regression kbest feature selection\n",
        "\n",
        "r2_kbest_reg=r2_score(y_test,pred_kbest)\n",
        "mae_kbest_reg=mean_absolute_error(y_test,pred_kbest)\n",
        "mse_kbest_reg=mean_squared_error(y_test,pred_kbest)\n",
        "rmse_kbest_reg=mean_squared_error(y_test,pred_kbest,squared=False)\n",
        "\n",
        "# metrics for the regression variance feature selection\n",
        "\n",
        "r2_var_reg=r2_score(y_test,pred_var)\n",
        "mae_var_reg=mean_absolute_error(y_test,pred_var)\n",
        "mse_var_reg=mean_squared_error(y_test,pred_var)\n",
        "rmse_var_reg=mean_squared_error(y_test,pred_var,squared=False)"
      ],
      "metadata": {
        "id": "OCcpvRpVIkWu"
      },
      "execution_count": 35,
      "outputs": []
    },
    {
      "cell_type": "code",
      "source": [
        "#import matplotlib.pyplot as plt\n",
        "#Algorithm_name=['mae','mse','rmse']\n",
        "#Algorithm_accuracy=[mae,mse,rmse]\n",
        "#plt.bar(Algorithm_name,Algorithm_accuracy, color ='orange',width = 0.4)\n",
        "#lt.xlabel(\"performance metric\")\n",
        "#plt.ylabel(\"score\")\n",
        "#plt.title(\"avaluation\")\n",
        "#plt.ylim(0,20)\n",
        "#plt.show()"
      ],
      "metadata": {
        "id": "wVNtc6BY2t8J"
      },
      "execution_count": 36,
      "outputs": []
    },
    {
      "cell_type": "code",
      "source": [
        "#import matplotlib.pyplot as plt\n",
        "#Algorithm_name=['r2']\n",
        "#Algorithm_accuracy=[r2]\n",
        "#plt.bar(Algorithm_name,Algorithm_accuracy, color ='orange',width = 0.4)\n",
        "#plt.xlabel(\"performance metric\")\n",
        "#plt.ylabel(\"score\")\n",
        "#plt.title(\"avaluation\")\n",
        "#plt.ylim(0,1)\n",
        "#plt.show()"
      ],
      "metadata": {
        "id": "MEwcyuBb3z__"
      },
      "execution_count": 37,
      "outputs": []
    },
    {
      "cell_type": "markdown",
      "source": [
        "KNN Regression"
      ],
      "metadata": {
        "id": "_sHX4oj-T32f"
      }
    },
    {
      "cell_type": "code",
      "source": [
        "from sklearn.neighbors import KNeighborsRegressor\n",
        "#arr_r2=np.array([])\n",
        "#arr_mae=np.array([])\n",
        "#arr_rmse=np.array([])\n",
        "#arr_mse=np.array([])\n",
        "KNN_seq=KNeighborsRegressor(n_neighbors=5)\n",
        "KNN_kbest=KNeighborsRegressor(n_neighbors=5)\n",
        "KNN_var=KNeighborsRegressor(n_neighbors=5)\n",
        "\n",
        "KNN_seq.fit(X_Train_seq,y_train)\n",
        "KNN_kbest.fit(X_Train_kbest,y_train)\n",
        "KNN_var.fit(X_Train_var,y_train)\n",
        "\n",
        "pred_seq_knn=KNN_seq.predict(X_Test_seq)\n",
        "pred_kbest_knn=KNN_kbest.predict(X_Test_kbest)\n",
        "pred_var_knn=KNN_var.predict(X_Test_var)\n",
        "\n",
        "# metrics for knn vseq feature selection\n",
        "\n",
        "r2_seq_knn=r2_score(y_test,pred_seq_knn)\n",
        "mae_seq_knn=mean_absolute_error(y_test,pred_seq_knn)\n",
        "mse_seq_knn=mean_squared_error(y_test,pred_seq_knn)\n",
        "rmse_seq_knn=mean_squared_error(y_test,pred_seq_knn,squared=False)\n",
        "\n",
        "# metrics for knn kbest feature selection\n",
        "\n",
        "r2_kbest_knn=r2_score(y_test,pred_kbest_knn)\n",
        "mae_kbest_knn=mean_absolute_error(y_test,pred_kbest_knn)\n",
        "mse_kbest_knn=mean_squared_error(y_test,pred_kbest_knn)\n",
        "rmse_kbest_knn=mean_squared_error(y_test,pred_kbest_knn,squared=False)\n",
        "\n",
        "# metrics for knn variance feature selection\n",
        "\n",
        "r2_var_knn=r2_score(y_test,pred_var_knn)\n",
        "mae_var_knn=mean_absolute_error(y_test,pred_var_knn)\n",
        "mse_var_knn=mean_squared_error(y_test,pred_var_knn)\n",
        "rmse_var_knn=mean_squared_error(y_test,pred_var_knn,squared=False)\n",
        "\n",
        "#print('performance metrics')\n",
        "#print('r2_score ='+str(max_r2)+'\\nMean squared error ='+str(avg_mse)+'\\nroot mean squared error ='+str(avg_rmse)+'\\nmean absolute error ='+str(avg_mae))\n",
        "r2_kbest_knn"
      ],
      "metadata": {
        "colab": {
          "base_uri": "https://localhost:8080/"
        },
        "id": "sLbZAFTRT181",
        "outputId": "a890d139-2571-4181-a383-99b11c14a878"
      },
      "execution_count": 38,
      "outputs": [
        {
          "output_type": "stream",
          "name": "stderr",
          "text": [
            "/usr/local/lib/python3.10/dist-packages/sklearn/base.py:432: UserWarning: X has feature names, but KNeighborsRegressor was fitted without feature names\n",
            "  warnings.warn(\n",
            "/usr/local/lib/python3.10/dist-packages/sklearn/base.py:432: UserWarning: X has feature names, but KNeighborsRegressor was fitted without feature names\n",
            "  warnings.warn(\n",
            "/usr/local/lib/python3.10/dist-packages/sklearn/base.py:432: UserWarning: X has feature names, but KNeighborsRegressor was fitted without feature names\n",
            "  warnings.warn(\n"
          ]
        },
        {
          "output_type": "execute_result",
          "data": {
            "text/plain": [
              "0.2873218790576062"
            ]
          },
          "metadata": {},
          "execution_count": 38
        }
      ]
    },
    {
      "cell_type": "markdown",
      "source": [
        "Decision Tree Regression"
      ],
      "metadata": {
        "id": "c2M0w2mBbHya"
      }
    },
    {
      "cell_type": "code",
      "source": [
        "from sklearn.tree import DecisionTreeRegressor\n",
        "\n",
        "DTC_seq=DecisionTreeRegressor()\n",
        "DTC_kbest=DecisionTreeRegressor()\n",
        "DTC_var=DecisionTreeRegressor()\n",
        "\n",
        "DTC_kbest.fit(X_Train_kbest,y_train)\n",
        "DTC_seq.fit(X_Train_seq,y_train)\n",
        "DTC_var.fit(X_Train_var,y_train)\n",
        "\n",
        "pred_kbest_dtc=DTC_kbest.predict(X_Test_kbest)\n",
        "pred_seq_dtc=DTC_seq.predict(X_Test_seq)\n",
        "pred_var_dtc=DTC_var.predict(X_Test_var)\n",
        "\n",
        "# metrics for Decision tree sequential feature selection\n",
        "\n",
        "DTC_r2_seq=r2_score(y_test,pred_seq_dtc)\n",
        "DTC_mae_seq=mean_absolute_error(y_test,pred_seq_dtc)\n",
        "DTC_mse_seq=mean_squared_error(y_test,pred_seq_dtc)\n",
        "DTC_rmse_seq=mean_squared_error(y_test,pred_seq_dtc,squared=False)\n",
        "\n",
        "# metrics for Decision tree kbest feature selection\n",
        "\n",
        "DTC_r2_kbest=r2_score(y_test,pred_kbest_dtc)\n",
        "DTC_mae_kbest=mean_absolute_error(y_test,pred_kbest_dtc)\n",
        "DTC_mse_kbest=mean_squared_error(y_test,pred_kbest_dtc)\n",
        "DTC_rmse_kbest=mean_squared_error(y_test,pred_kbest_dtc,squared=False)\n",
        "\n",
        "# metrics for Decision tree varirance feature selection\n",
        "\n",
        "DTC_r2_var=r2_score(y_test,pred_var_dtc)\n",
        "DTC_mae_var=mean_absolute_error(y_test,pred_var_dtc)\n",
        "DTC_mse_var=mean_squared_error(y_test,pred_var_dtc)\n",
        "DTC_rmse_var=mean_squared_error(y_test,pred_var_dtc,squared=False)\n",
        "\n",
        "DTC_r2_var"
      ],
      "metadata": {
        "colab": {
          "base_uri": "https://localhost:8080/"
        },
        "id": "zNTJuCA-aMrJ",
        "outputId": "07604094-2f96-4ed1-eec2-99e76ebab6af"
      },
      "execution_count": 39,
      "outputs": [
        {
          "output_type": "stream",
          "name": "stderr",
          "text": [
            "/usr/local/lib/python3.10/dist-packages/sklearn/base.py:432: UserWarning: X has feature names, but DecisionTreeRegressor was fitted without feature names\n",
            "  warnings.warn(\n",
            "/usr/local/lib/python3.10/dist-packages/sklearn/base.py:432: UserWarning: X has feature names, but DecisionTreeRegressor was fitted without feature names\n",
            "  warnings.warn(\n",
            "/usr/local/lib/python3.10/dist-packages/sklearn/base.py:432: UserWarning: X has feature names, but DecisionTreeRegressor was fitted without feature names\n",
            "  warnings.warn(\n"
          ]
        },
        {
          "output_type": "execute_result",
          "data": {
            "text/plain": [
              "0.9411480237607496"
            ]
          },
          "metadata": {},
          "execution_count": 39
        }
      ]
    },
    {
      "cell_type": "markdown",
      "source": [
        "predictive model for LOW dataset"
      ],
      "metadata": {
        "id": "hNPORdRbvBty"
      }
    },
    {
      "cell_type": "code",
      "source": [],
      "metadata": {
        "id": "0yoPN983f1no"
      },
      "execution_count": 39,
      "outputs": []
    },
    {
      "cell_type": "code",
      "source": [
        "from sklearn.feature_selection import SelectKBest\n",
        "kbes=SelectKBest(k=10)\n",
        "X_Train2_kbest=kbes.fit_transform(X_train2,y_train2)\n",
        "kbes.get_feature_names_out()"
      ],
      "metadata": {
        "colab": {
          "base_uri": "https://localhost:8080/"
        },
        "id": "qmztEBDAu-1N",
        "outputId": "cc6099d6-349f-4d40-fe09-65eaeea4816c"
      },
      "execution_count": 40,
      "outputs": [
        {
          "output_type": "execute_result",
          "data": {
            "text/plain": [
              "array(['SEC_CODE', 'SYMBOL1', 'MARKET', 'VOLUME', 'TRADE_QTY',\n",
              "       'NO_OF_TRADES', 'BEST_ASK_PRICE', 'BEST_ASK_QTY', 'BEST_BID_PRICE',\n",
              "       'BEST_BID_QTY'], dtype=object)"
            ]
          },
          "metadata": {},
          "execution_count": 40
        }
      ]
    },
    {
      "cell_type": "code",
      "source": [
        "from sklearn.feature_selection import VarianceThreshold\n",
        "var=VarianceThreshold(threshold=0.8)\n",
        "X_Train2_var=var.fit_transform(X_train2)\n",
        "var.get_feature_names_out()"
      ],
      "metadata": {
        "colab": {
          "base_uri": "https://localhost:8080/"
        },
        "id": "dQQhKSRYuaNz",
        "outputId": "fe0cd9b0-94e6-48a5-a473-12f7e0067d17"
      },
      "execution_count": 41,
      "outputs": [
        {
          "output_type": "execute_result",
          "data": {
            "text/plain": [
              "array(['TRADE_DATE', 'SEC_CODE', 'SYMBOL1', 'VOLUME', 'TRADE_QTY',\n",
              "       'NO_OF_TRADES', 'BEST_ASK_PRICE', 'BEST_ASK_QTY', 'BEST_BID_PRICE',\n",
              "       'BEST_BID_QTY'], dtype=object)"
            ]
          },
          "metadata": {},
          "execution_count": 41
        }
      ]
    },
    {
      "cell_type": "code",
      "source": [
        "from sklearn.feature_selection import SequentialFeatureSelector\n",
        "seq=SequentialFeatureSelector(estimator=reg,n_features_to_select=10)\n",
        "X_Train2_seq=seq.fit_transform(X_train2,y_train2)\n",
        "seq.get_feature_names_out()"
      ],
      "metadata": {
        "colab": {
          "base_uri": "https://localhost:8080/"
        },
        "id": "oKlH7lnvvV9V",
        "outputId": "00d9522f-2a9e-4241-f435-522a87d6f23d"
      },
      "execution_count": 42,
      "outputs": [
        {
          "output_type": "execute_result",
          "data": {
            "text/plain": [
              "array(['SEC_CODE', 'SYMBOL1', 'MARKET', 'VOLUME', 'TRADE_QTY',\n",
              "       'NO_OF_TRADES', 'BEST_ASK_PRICE', 'BEST_ASK_QTY', 'BEST_BID_PRICE',\n",
              "       'BEST_BID_QTY'], dtype=object)"
            ]
          },
          "metadata": {},
          "execution_count": 42
        }
      ]
    },
    {
      "cell_type": "code",
      "source": [
        "X_Test2_kbest=X_test2[['SEC_CODE', 'SYMBOL1', 'MARKET', 'VOLUME', 'TRADE_QTY',\n",
        "       'NO_OF_TRADES', 'BEST_ASK_PRICE', 'BEST_ASK_QTY', 'BEST_BID_PRICE',\n",
        "       'BEST_BID_QTY']]\n",
        "\n",
        "X_Test2_var=X_test2[['TRADE_DATE', 'SEC_CODE', 'SYMBOL1', 'VOLUME', 'TRADE_QTY',\n",
        "       'NO_OF_TRADES', 'BEST_ASK_PRICE', 'BEST_ASK_QTY', 'BEST_BID_PRICE',\n",
        "       'BEST_BID_QTY']]\n",
        "\n",
        "X_Test2_seq=X_test2[['SEC_CODE', 'SYMBOL1', 'MARKET', 'VOLUME', 'TRADE_QTY',\n",
        "       'NO_OF_TRADES', 'BEST_ASK_PRICE', 'BEST_ASK_QTY', 'BEST_BID_PRICE',\n",
        "       'BEST_BID_QTY']]"
      ],
      "metadata": {
        "id": "rx8EbjRvkW6I"
      },
      "execution_count": 43,
      "outputs": []
    },
    {
      "cell_type": "code",
      "source": [
        "reg4=LinearRegression()\n",
        "reg5=LinearRegression()\n",
        "reg6=LinearRegression()"
      ],
      "metadata": {
        "id": "mcM9VsGykG3W"
      },
      "execution_count": 44,
      "outputs": []
    },
    {
      "cell_type": "code",
      "source": [
        "reg4.fit(X_Train2_seq,y_train2)\n",
        "reg5.fit(X_Train2_kbest,y_train2)\n",
        "reg6.fit(X_Train2_var,y_train2)"
      ],
      "metadata": {
        "colab": {
          "base_uri": "https://localhost:8080/",
          "height": 74
        },
        "id": "srFcupySwSqy",
        "outputId": "08e1072e-c624-426c-d0b2-e721668f86f7"
      },
      "execution_count": 45,
      "outputs": [
        {
          "output_type": "execute_result",
          "data": {
            "text/plain": [
              "LinearRegression()"
            ],
            "text/html": [
              "<style>#sk-container-id-2 {color: black;background-color: white;}#sk-container-id-2 pre{padding: 0;}#sk-container-id-2 div.sk-toggleable {background-color: white;}#sk-container-id-2 label.sk-toggleable__label {cursor: pointer;display: block;width: 100%;margin-bottom: 0;padding: 0.3em;box-sizing: border-box;text-align: center;}#sk-container-id-2 label.sk-toggleable__label-arrow:before {content: \"▸\";float: left;margin-right: 0.25em;color: #696969;}#sk-container-id-2 label.sk-toggleable__label-arrow:hover:before {color: black;}#sk-container-id-2 div.sk-estimator:hover label.sk-toggleable__label-arrow:before {color: black;}#sk-container-id-2 div.sk-toggleable__content {max-height: 0;max-width: 0;overflow: hidden;text-align: left;background-color: #f0f8ff;}#sk-container-id-2 div.sk-toggleable__content pre {margin: 0.2em;color: black;border-radius: 0.25em;background-color: #f0f8ff;}#sk-container-id-2 input.sk-toggleable__control:checked~div.sk-toggleable__content {max-height: 200px;max-width: 100%;overflow: auto;}#sk-container-id-2 input.sk-toggleable__control:checked~label.sk-toggleable__label-arrow:before {content: \"▾\";}#sk-container-id-2 div.sk-estimator input.sk-toggleable__control:checked~label.sk-toggleable__label {background-color: #d4ebff;}#sk-container-id-2 div.sk-label input.sk-toggleable__control:checked~label.sk-toggleable__label {background-color: #d4ebff;}#sk-container-id-2 input.sk-hidden--visually {border: 0;clip: rect(1px 1px 1px 1px);clip: rect(1px, 1px, 1px, 1px);height: 1px;margin: -1px;overflow: hidden;padding: 0;position: absolute;width: 1px;}#sk-container-id-2 div.sk-estimator {font-family: monospace;background-color: #f0f8ff;border: 1px dotted black;border-radius: 0.25em;box-sizing: border-box;margin-bottom: 0.5em;}#sk-container-id-2 div.sk-estimator:hover {background-color: #d4ebff;}#sk-container-id-2 div.sk-parallel-item::after {content: \"\";width: 100%;border-bottom: 1px solid gray;flex-grow: 1;}#sk-container-id-2 div.sk-label:hover label.sk-toggleable__label {background-color: #d4ebff;}#sk-container-id-2 div.sk-serial::before {content: \"\";position: absolute;border-left: 1px solid gray;box-sizing: border-box;top: 0;bottom: 0;left: 50%;z-index: 0;}#sk-container-id-2 div.sk-serial {display: flex;flex-direction: column;align-items: center;background-color: white;padding-right: 0.2em;padding-left: 0.2em;position: relative;}#sk-container-id-2 div.sk-item {position: relative;z-index: 1;}#sk-container-id-2 div.sk-parallel {display: flex;align-items: stretch;justify-content: center;background-color: white;position: relative;}#sk-container-id-2 div.sk-item::before, #sk-container-id-2 div.sk-parallel-item::before {content: \"\";position: absolute;border-left: 1px solid gray;box-sizing: border-box;top: 0;bottom: 0;left: 50%;z-index: -1;}#sk-container-id-2 div.sk-parallel-item {display: flex;flex-direction: column;z-index: 1;position: relative;background-color: white;}#sk-container-id-2 div.sk-parallel-item:first-child::after {align-self: flex-end;width: 50%;}#sk-container-id-2 div.sk-parallel-item:last-child::after {align-self: flex-start;width: 50%;}#sk-container-id-2 div.sk-parallel-item:only-child::after {width: 0;}#sk-container-id-2 div.sk-dashed-wrapped {border: 1px dashed gray;margin: 0 0.4em 0.5em 0.4em;box-sizing: border-box;padding-bottom: 0.4em;background-color: white;}#sk-container-id-2 div.sk-label label {font-family: monospace;font-weight: bold;display: inline-block;line-height: 1.2em;}#sk-container-id-2 div.sk-label-container {text-align: center;}#sk-container-id-2 div.sk-container {/* jupyter's `normalize.less` sets `[hidden] { display: none; }` but bootstrap.min.css set `[hidden] { display: none !important; }` so we also need the `!important` here to be able to override the default hidden behavior on the sphinx rendered scikit-learn.org. See: https://github.com/scikit-learn/scikit-learn/issues/21755 */display: inline-block !important;position: relative;}#sk-container-id-2 div.sk-text-repr-fallback {display: none;}</style><div id=\"sk-container-id-2\" class=\"sk-top-container\"><div class=\"sk-text-repr-fallback\"><pre>LinearRegression()</pre><b>In a Jupyter environment, please rerun this cell to show the HTML representation or trust the notebook. <br />On GitHub, the HTML representation is unable to render, please try loading this page with nbviewer.org.</b></div><div class=\"sk-container\" hidden><div class=\"sk-item\"><div class=\"sk-estimator sk-toggleable\"><input class=\"sk-toggleable__control sk-hidden--visually\" id=\"sk-estimator-id-2\" type=\"checkbox\" checked><label for=\"sk-estimator-id-2\" class=\"sk-toggleable__label sk-toggleable__label-arrow\">LinearRegression</label><div class=\"sk-toggleable__content\"><pre>LinearRegression()</pre></div></div></div></div></div>"
            ]
          },
          "metadata": {},
          "execution_count": 45
        }
      ]
    },
    {
      "cell_type": "code",
      "source": [
        "pred2_seq=reg4.predict(X_Test2_seq)\n",
        "pred2_kbest=reg5.predict(X_Test2_kbest)\n",
        "pred2_var=reg6.predict(X_Test2_var)"
      ],
      "metadata": {
        "colab": {
          "base_uri": "https://localhost:8080/"
        },
        "id": "ZzPCpyEaxziw",
        "outputId": "cbee4399-b3a3-483a-a034-c7076da6a18f"
      },
      "execution_count": 46,
      "outputs": [
        {
          "output_type": "stream",
          "name": "stderr",
          "text": [
            "/usr/local/lib/python3.10/dist-packages/sklearn/base.py:432: UserWarning: X has feature names, but LinearRegression was fitted without feature names\n",
            "  warnings.warn(\n",
            "/usr/local/lib/python3.10/dist-packages/sklearn/base.py:432: UserWarning: X has feature names, but LinearRegression was fitted without feature names\n",
            "  warnings.warn(\n",
            "/usr/local/lib/python3.10/dist-packages/sklearn/base.py:432: UserWarning: X has feature names, but LinearRegression was fitted without feature names\n",
            "  warnings.warn(\n"
          ]
        }
      ]
    },
    {
      "cell_type": "code",
      "source": [
        "# metrics for the regression sequential feature selection\n",
        "\n",
        "r2_seq2=r2_score(y_test2,pred2_seq)\n",
        "mae_seq2=mean_absolute_error(y_test2,pred2_seq)\n",
        "mse_seq2=mean_squared_error(y_test2,pred2_seq)\n",
        "rmse_seq2=mean_squared_error(y_test2,pred2_seq,squared=False)\n",
        "\n",
        "# metrics for the regression kbest feature selection\n",
        "\n",
        "r2_kbest2_reg=r2_score(y_test2,pred2_kbest)\n",
        "mae_kbest2_reg=mean_absolute_error(y_test2,pred2_kbest)\n",
        "mse_kbest2_reg=mean_squared_error(y_test2,pred2_kbest)\n",
        "rmse_kbest2_reg=mean_squared_error(y_test2,pred2_kbest,squared=False)\n",
        "\n",
        "# metrics for the regression variance feature selection\n",
        "\n",
        "r2_var2_reg=r2_score(y_test2,pred2_var)\n",
        "mae_var2_reg=mean_absolute_error(y_test2,pred2_var)\n",
        "mse_var2_reg=mean_squared_error(y_test2,pred2_var)\n",
        "rmse_var2_reg=mean_squared_error(y_test2,pred2_var,squared=False)"
      ],
      "metadata": {
        "id": "A5E6VDMdysHw"
      },
      "execution_count": 47,
      "outputs": []
    },
    {
      "cell_type": "code",
      "source": [
        "KNN_seq2=KNeighborsRegressor(n_neighbors=5)\n",
        "KNN_kbest2=KNeighborsRegressor(n_neighbors=5)\n",
        "KNN_var2=KNeighborsRegressor(n_neighbors=5)\n",
        "\n",
        "KNN_seq2.fit(X_Train2_seq,y_train2)\n",
        "KNN_kbest2.fit(X_Train2_kbest,y_train2)\n",
        "KNN_var2.fit(X_Train2_var,y_train2)\n",
        "\n",
        "pred_seq_knn2=KNN_seq2.predict(X_Test2_seq)\n",
        "pred_kbest_knn2=KNN_kbest2.predict(X_Test2_kbest)\n",
        "pred_var_knn2=KNN_var2.predict(X_Test2_var)\n",
        "\n",
        "# metrics for knn vseq feature selection\n",
        "\n",
        "r2_seq_knn2=r2_score(y_test2,pred_seq_knn2)\n",
        "mae_seq_knn2=mean_absolute_error(y_test2,pred_seq_knn2)\n",
        "mse_seq_knn2=mean_squared_error(y_test2,pred_seq_knn2)\n",
        "rmse_seq_knn2=mean_squared_error(y_test2,pred_seq_knn2,squared=False)\n",
        "\n",
        "# metrics for knn kbest feature selection\n",
        "\n",
        "r2_kbest_knn2=r2_score(y_test2,pred_kbest_knn2)\n",
        "mae_kbest_knn2=mean_absolute_error(y_test2,pred_kbest_knn2)\n",
        "mse_kbest_knn2=mean_squared_error(y_test2,pred_kbest_knn2)\n",
        "rmse_kbest_knn2=mean_squared_error(y_test2,pred_kbest_knn2,squared=False)\n",
        "\n",
        "# metrics for knn variance feature selection\n",
        "\n",
        "r2_var_knn2=r2_score(y_test2,pred_var_knn2)\n",
        "mae_var_knn2=mean_absolute_error(y_test2,pred_var_knn2)\n",
        "mse_var_knn2=mean_squared_error(y_test2,pred_var_knn2)\n",
        "rmse_var_knn2=mean_squared_error(y_test2,pred_var_knn2,squared=False)\n",
        "\n",
        "#print('performance metrics')\n",
        "#print('r2_score ='+str(max_r2)+'\\nMean squared error ='+str(avg_mse)+'\\nroot mean squared error ='+str(avg_rmse)+'\\nmean absolute error ='+str(avg_mae))\n"
      ],
      "metadata": {
        "colab": {
          "base_uri": "https://localhost:8080/"
        },
        "id": "2tbAcHXsuFgK",
        "outputId": "820741d4-7ea1-4e80-8c2b-2f6c1bc6e312"
      },
      "execution_count": 48,
      "outputs": [
        {
          "output_type": "stream",
          "name": "stderr",
          "text": [
            "/usr/local/lib/python3.10/dist-packages/sklearn/base.py:432: UserWarning: X has feature names, but KNeighborsRegressor was fitted without feature names\n",
            "  warnings.warn(\n",
            "/usr/local/lib/python3.10/dist-packages/sklearn/base.py:432: UserWarning: X has feature names, but KNeighborsRegressor was fitted without feature names\n",
            "  warnings.warn(\n",
            "/usr/local/lib/python3.10/dist-packages/sklearn/base.py:432: UserWarning: X has feature names, but KNeighborsRegressor was fitted without feature names\n",
            "  warnings.warn(\n"
          ]
        }
      ]
    },
    {
      "cell_type": "code",
      "source": [
        "from sklearn.tree import DecisionTreeRegressor\n",
        "\n",
        "DTC_seq2=DecisionTreeRegressor()\n",
        "DTC_kbest2=DecisionTreeRegressor()\n",
        "DTC_var2=DecisionTreeRegressor()\n",
        "\n",
        "DTC_kbest2.fit(X_Train2_kbest,y_train2)\n",
        "DTC_seq2.fit(X_Train2_seq,y_train2)\n",
        "DTC_var2.fit(X_Train2_var,y_train2)\n",
        "\n",
        "pred_kbest2_dtc=DTC_kbest2.predict(X_Test2_kbest)\n",
        "pred_seq2_dtc=DTC_seq2.predict(X_Test2_seq)\n",
        "pred_var2_dtc=DTC_var2.predict(X_Test2_var)\n",
        "\n",
        "# metrics for Decision tree sequential feature selection\n",
        "\n",
        "DTC_r2_seq2=r2_score(y_test2,pred_seq2_dtc)\n",
        "DTC_mae_seq2=mean_absolute_error(y_test2,pred_seq2_dtc)\n",
        "DTC_mse_seq2=mean_squared_error(y_test,pred_seq2_dtc)\n",
        "DTC_rmse_seq2=mean_squared_error(y_test,pred_seq2_dtc,squared=False)\n",
        "\n",
        "# metrics for Decision tree kbest feature selection\n",
        "\n",
        "DTC_r2_kbest2=r2_score(y_test2,pred_kbest2_dtc)\n",
        "DTC_mae_kbest2=mean_absolute_error(y_test2,pred_kbest2_dtc)\n",
        "DTC_mse_kbest2=mean_squared_error(y_test2,pred_kbest2_dtc)\n",
        "DTC_rmse_kbest2=mean_squared_error(y_test2,pred_kbest2_dtc,squared=False)\n",
        "\n",
        "# metrics for Decision tree varirance feature selection\n",
        "\n",
        "DTC_r2_var2=r2_score(y_test2,pred_var2_dtc)\n",
        "DTC_mae_var2=mean_absolute_error(y_test2,pred_var2_dtc)\n",
        "DTC_mse_var2=mean_squared_error(y_test2,pred_var2_dtc)\n",
        "DTC_rmse_var2=mean_squared_error(y_test2,pred_var2_dtc,squared=False)\n",
        "\n",
        "DTC_rmse_kbest2"
      ],
      "metadata": {
        "colab": {
          "base_uri": "https://localhost:8080/"
        },
        "id": "7NziAAvjpYZL",
        "outputId": "5b0e4264-7643-427b-a017-f79db7c6a06c"
      },
      "execution_count": 65,
      "outputs": [
        {
          "output_type": "stream",
          "name": "stderr",
          "text": [
            "/usr/local/lib/python3.10/dist-packages/sklearn/base.py:432: UserWarning: X has feature names, but DecisionTreeRegressor was fitted without feature names\n",
            "  warnings.warn(\n",
            "/usr/local/lib/python3.10/dist-packages/sklearn/base.py:432: UserWarning: X has feature names, but DecisionTreeRegressor was fitted without feature names\n",
            "  warnings.warn(\n",
            "/usr/local/lib/python3.10/dist-packages/sklearn/base.py:432: UserWarning: X has feature names, but DecisionTreeRegressor was fitted without feature names\n",
            "  warnings.warn(\n"
          ]
        },
        {
          "output_type": "execute_result",
          "data": {
            "text/plain": [
              "1.020247215737564"
            ]
          },
          "metadata": {},
          "execution_count": 65
        }
      ]
    },
    {
      "cell_type": "code",
      "source": [
        "col1=np.array(['seq', 'kbest', 'var','seq', 'kbest', 'var','seq', 'kbest', 'var'])\n",
        "col2=np.array([r2_seq_knn,r2_kbest_knn,r2_var_knn,r2_seq,r2_kbest_reg,r2_var_reg,DTC_r2_seq,DTC_r2_kbest,DTC_r2_var])\n",
        "col3=np.array(['knn','knn','knn','reg','reg','reg','DTR','DTR','DTR'])\n",
        "df_vis=pd.DataFrame({'feature selection':col1,'r2':col2,'algorithm':col3})\n",
        "df_vis"
      ],
      "metadata": {
        "colab": {
          "base_uri": "https://localhost:8080/",
          "height": 331
        },
        "id": "dxebpe7EUkOE",
        "outputId": "da667a0e-0903-4f9b-bb43-30c9fc5a77d5"
      },
      "execution_count": 50,
      "outputs": [
        {
          "output_type": "execute_result",
          "data": {
            "text/plain": [
              "  feature selection        r2 algorithm\n",
              "0               seq  0.933470       knn\n",
              "1             kbest  0.287322       knn\n",
              "2               var  0.924883       knn\n",
              "3               seq  0.208666       reg\n",
              "4             kbest  0.149752       reg\n",
              "5               var  0.203861       reg\n",
              "6               seq  0.940242       DTR\n",
              "7             kbest  0.879407       DTR\n",
              "8               var  0.941148       DTR"
            ],
            "text/html": [
              "\n",
              "  <div id=\"df-a977e3fc-acce-49eb-84ff-530fa3d3f625\">\n",
              "    <div class=\"colab-df-container\">\n",
              "      <div>\n",
              "<style scoped>\n",
              "    .dataframe tbody tr th:only-of-type {\n",
              "        vertical-align: middle;\n",
              "    }\n",
              "\n",
              "    .dataframe tbody tr th {\n",
              "        vertical-align: top;\n",
              "    }\n",
              "\n",
              "    .dataframe thead th {\n",
              "        text-align: right;\n",
              "    }\n",
              "</style>\n",
              "<table border=\"1\" class=\"dataframe\">\n",
              "  <thead>\n",
              "    <tr style=\"text-align: right;\">\n",
              "      <th></th>\n",
              "      <th>feature selection</th>\n",
              "      <th>r2</th>\n",
              "      <th>algorithm</th>\n",
              "    </tr>\n",
              "  </thead>\n",
              "  <tbody>\n",
              "    <tr>\n",
              "      <th>0</th>\n",
              "      <td>seq</td>\n",
              "      <td>0.933470</td>\n",
              "      <td>knn</td>\n",
              "    </tr>\n",
              "    <tr>\n",
              "      <th>1</th>\n",
              "      <td>kbest</td>\n",
              "      <td>0.287322</td>\n",
              "      <td>knn</td>\n",
              "    </tr>\n",
              "    <tr>\n",
              "      <th>2</th>\n",
              "      <td>var</td>\n",
              "      <td>0.924883</td>\n",
              "      <td>knn</td>\n",
              "    </tr>\n",
              "    <tr>\n",
              "      <th>3</th>\n",
              "      <td>seq</td>\n",
              "      <td>0.208666</td>\n",
              "      <td>reg</td>\n",
              "    </tr>\n",
              "    <tr>\n",
              "      <th>4</th>\n",
              "      <td>kbest</td>\n",
              "      <td>0.149752</td>\n",
              "      <td>reg</td>\n",
              "    </tr>\n",
              "    <tr>\n",
              "      <th>5</th>\n",
              "      <td>var</td>\n",
              "      <td>0.203861</td>\n",
              "      <td>reg</td>\n",
              "    </tr>\n",
              "    <tr>\n",
              "      <th>6</th>\n",
              "      <td>seq</td>\n",
              "      <td>0.940242</td>\n",
              "      <td>DTR</td>\n",
              "    </tr>\n",
              "    <tr>\n",
              "      <th>7</th>\n",
              "      <td>kbest</td>\n",
              "      <td>0.879407</td>\n",
              "      <td>DTR</td>\n",
              "    </tr>\n",
              "    <tr>\n",
              "      <th>8</th>\n",
              "      <td>var</td>\n",
              "      <td>0.941148</td>\n",
              "      <td>DTR</td>\n",
              "    </tr>\n",
              "  </tbody>\n",
              "</table>\n",
              "</div>\n",
              "      <button class=\"colab-df-convert\" onclick=\"convertToInteractive('df-a977e3fc-acce-49eb-84ff-530fa3d3f625')\"\n",
              "              title=\"Convert this dataframe to an interactive table.\"\n",
              "              style=\"display:none;\">\n",
              "        \n",
              "  <svg xmlns=\"http://www.w3.org/2000/svg\" height=\"24px\"viewBox=\"0 0 24 24\"\n",
              "       width=\"24px\">\n",
              "    <path d=\"M0 0h24v24H0V0z\" fill=\"none\"/>\n",
              "    <path d=\"M18.56 5.44l.94 2.06.94-2.06 2.06-.94-2.06-.94-.94-2.06-.94 2.06-2.06.94zm-11 1L8.5 8.5l.94-2.06 2.06-.94-2.06-.94L8.5 2.5l-.94 2.06-2.06.94zm10 10l.94 2.06.94-2.06 2.06-.94-2.06-.94-.94-2.06-.94 2.06-2.06.94z\"/><path d=\"M17.41 7.96l-1.37-1.37c-.4-.4-.92-.59-1.43-.59-.52 0-1.04.2-1.43.59L10.3 9.45l-7.72 7.72c-.78.78-.78 2.05 0 2.83L4 21.41c.39.39.9.59 1.41.59.51 0 1.02-.2 1.41-.59l7.78-7.78 2.81-2.81c.8-.78.8-2.07 0-2.86zM5.41 20L4 18.59l7.72-7.72 1.47 1.35L5.41 20z\"/>\n",
              "  </svg>\n",
              "      </button>\n",
              "      \n",
              "  <style>\n",
              "    .colab-df-container {\n",
              "      display:flex;\n",
              "      flex-wrap:wrap;\n",
              "      gap: 12px;\n",
              "    }\n",
              "\n",
              "    .colab-df-convert {\n",
              "      background-color: #E8F0FE;\n",
              "      border: none;\n",
              "      border-radius: 50%;\n",
              "      cursor: pointer;\n",
              "      display: none;\n",
              "      fill: #1967D2;\n",
              "      height: 32px;\n",
              "      padding: 0 0 0 0;\n",
              "      width: 32px;\n",
              "    }\n",
              "\n",
              "    .colab-df-convert:hover {\n",
              "      background-color: #E2EBFA;\n",
              "      box-shadow: 0px 1px 2px rgba(60, 64, 67, 0.3), 0px 1px 3px 1px rgba(60, 64, 67, 0.15);\n",
              "      fill: #174EA6;\n",
              "    }\n",
              "\n",
              "    [theme=dark] .colab-df-convert {\n",
              "      background-color: #3B4455;\n",
              "      fill: #D2E3FC;\n",
              "    }\n",
              "\n",
              "    [theme=dark] .colab-df-convert:hover {\n",
              "      background-color: #434B5C;\n",
              "      box-shadow: 0px 1px 3px 1px rgba(0, 0, 0, 0.15);\n",
              "      filter: drop-shadow(0px 1px 2px rgba(0, 0, 0, 0.3));\n",
              "      fill: #FFFFFF;\n",
              "    }\n",
              "  </style>\n",
              "\n",
              "      <script>\n",
              "        const buttonEl =\n",
              "          document.querySelector('#df-a977e3fc-acce-49eb-84ff-530fa3d3f625 button.colab-df-convert');\n",
              "        buttonEl.style.display =\n",
              "          google.colab.kernel.accessAllowed ? 'block' : 'none';\n",
              "\n",
              "        async function convertToInteractive(key) {\n",
              "          const element = document.querySelector('#df-a977e3fc-acce-49eb-84ff-530fa3d3f625');\n",
              "          const dataTable =\n",
              "            await google.colab.kernel.invokeFunction('convertToInteractive',\n",
              "                                                     [key], {});\n",
              "          if (!dataTable) return;\n",
              "\n",
              "          const docLinkHtml = 'Like what you see? Visit the ' +\n",
              "            '<a target=\"_blank\" href=https://colab.research.google.com/notebooks/data_table.ipynb>data table notebook</a>'\n",
              "            + ' to learn more about interactive tables.';\n",
              "          element.innerHTML = '';\n",
              "          dataTable['output_type'] = 'display_data';\n",
              "          await google.colab.output.renderOutput(dataTable, element);\n",
              "          const docLink = document.createElement('div');\n",
              "          docLink.innerHTML = docLinkHtml;\n",
              "          element.appendChild(docLink);\n",
              "        }\n",
              "      </script>\n",
              "    </div>\n",
              "  </div>\n",
              "  "
            ]
          },
          "metadata": {},
          "execution_count": 50
        }
      ]
    },
    {
      "cell_type": "code",
      "source": [
        "sns.barplot(x='algorithm',y='r2',hue='feature selection',data=df_vis).set(title='High dataset')"
      ],
      "metadata": {
        "colab": {
          "base_uri": "https://localhost:8080/",
          "height": 489
        },
        "id": "jfEJLX-GRnPf",
        "outputId": "0fa6d0d5-752c-4ed2-e5f6-c37ffb6cf876"
      },
      "execution_count": 51,
      "outputs": [
        {
          "output_type": "execute_result",
          "data": {
            "text/plain": [
              "[Text(0.5, 1.0, 'High dataset')]"
            ]
          },
          "metadata": {},
          "execution_count": 51
        },
        {
          "output_type": "display_data",
          "data": {
            "text/plain": [
              "<Figure size 640x480 with 1 Axes>"
            ],
            "image/png": "[encoded data removed]"
          },
          "metadata": {}
        }
      ]
    },
    {
      "cell_type": "code",
      "source": [
        "col1_mse=np.array(['seq', 'kbest', 'var','seq', 'kbest', 'var','seq', 'kbest', 'var'])\n",
        "col2_mse=np.array([mse_seq_knn,mse_kbest_knn,mse_var_knn,mse_seq,mse_kbest_reg,mse_var_reg,DTC_mse_seq,DTC_mse_kbest,DTC_mse_var])\n",
        "col3_mse=np.array(['knn','knn','knn','reg','reg','reg','DTR','DTR','DTR'])\n",
        "df_vis2=pd.DataFrame({'feature selection':col1_mse,'mean squared error':col2_mse,'algorithm':col3_mse})\n",
        "df_vis2"
      ],
      "metadata": {
        "colab": {
          "base_uri": "https://localhost:8080/",
          "height": 331
        },
        "id": "1gunhud_fWE7",
        "outputId": "a106d517-93c0-43b4-9141-a9d8fc48d503"
      },
      "execution_count": 52,
      "outputs": [
        {
          "output_type": "execute_result",
          "data": {
            "text/plain": [
              "  feature selection  mean squared error algorithm\n",
              "0               seq            1.487857       knn\n",
              "1             kbest           15.938012       knn\n",
              "2               var            1.679889       knn\n",
              "3               seq           17.697032       reg\n",
              "4             kbest           19.014568       reg\n",
              "5               var           17.804487       reg\n",
              "6               seq            1.336405       DTR\n",
              "7             kbest            2.696891       DTR\n",
              "8               var            1.316139       DTR"
            ],
            "text/html": [
              "\n",
              "  <div id=\"df-80b6e386-cbe9-4608-9e0a-be4ee9500123\">\n",
              "    <div class=\"colab-df-container\">\n",
              "      <div>\n",
              "<style scoped>\n",
              "    .dataframe tbody tr th:only-of-type {\n",
              "        vertical-align: middle;\n",
              "    }\n",
              "\n",
              "    .dataframe tbody tr th {\n",
              "        vertical-align: top;\n",
              "    }\n",
              "\n",
              "    .dataframe thead th {\n",
              "        text-align: right;\n",
              "    }\n",
              "</style>\n",
              "<table border=\"1\" class=\"dataframe\">\n",
              "  <thead>\n",
              "    <tr style=\"text-align: right;\">\n",
              "      <th></th>\n",
              "      <th>feature selection</th>\n",
              "      <th>mean squared error</th>\n",
              "      <th>algorithm</th>\n",
              "    </tr>\n",
              "  </thead>\n",
              "  <tbody>\n",
              "    <tr>\n",
              "      <th>0</th>\n",
              "      <td>seq</td>\n",
              "      <td>1.487857</td>\n",
              "      <td>knn</td>\n",
              "    </tr>\n",
              "    <tr>\n",
              "      <th>1</th>\n",
              "      <td>kbest</td>\n",
              "      <td>15.938012</td>\n",
              "      <td>knn</td>\n",
              "    </tr>\n",
              "    <tr>\n",
              "      <th>2</th>\n",
              "      <td>var</td>\n",
              "      <td>1.679889</td>\n",
              "      <td>knn</td>\n",
              "    </tr>\n",
              "    <tr>\n",
              "      <th>3</th>\n",
              "      <td>seq</td>\n",
              "      <td>17.697032</td>\n",
              "      <td>reg</td>\n",
              "    </tr>\n",
              "    <tr>\n",
              "      <th>4</th>\n",
              "      <td>kbest</td>\n",
              "      <td>19.014568</td>\n",
              "      <td>reg</td>\n",
              "    </tr>\n",
              "    <tr>\n",
              "      <th>5</th>\n",
              "      <td>var</td>\n",
              "      <td>17.804487</td>\n",
              "      <td>reg</td>\n",
              "    </tr>\n",
              "    <tr>\n",
              "      <th>6</th>\n",
              "      <td>seq</td>\n",
              "      <td>1.336405</td>\n",
              "      <td>DTR</td>\n",
              "    </tr>\n",
              "    <tr>\n",
              "      <th>7</th>\n",
              "      <td>kbest</td>\n",
              "      <td>2.696891</td>\n",
              "      <td>DTR</td>\n",
              "    </tr>\n",
              "    <tr>\n",
              "      <th>8</th>\n",
              "      <td>var</td>\n",
              "      <td>1.316139</td>\n",
              "      <td>DTR</td>\n",
              "    </tr>\n",
              "  </tbody>\n",
              "</table>\n",
              "</div>\n",
              "      <button class=\"colab-df-convert\" onclick=\"convertToInteractive('df-80b6e386-cbe9-4608-9e0a-be4ee9500123')\"\n",
              "              title=\"Convert this dataframe to an interactive table.\"\n",
              "              style=\"display:none;\">\n",
              "        \n",
              "  <svg xmlns=\"http://www.w3.org/2000/svg\" height=\"24px\"viewBox=\"0 0 24 24\"\n",
              "       width=\"24px\">\n",
              "    <path d=\"M0 0h24v24H0V0z\" fill=\"none\"/>\n",
              "    <path d=\"M18.56 5.44l.94 2.06.94-2.06 2.06-.94-2.06-.94-.94-2.06-.94 2.06-2.06.94zm-11 1L8.5 8.5l.94-2.06 2.06-.94-2.06-.94L8.5 2.5l-.94 2.06-2.06.94zm10 10l.94 2.06.94-2.06 2.06-.94-2.06-.94-.94-2.06-.94 2.06-2.06.94z\"/><path d=\"M17.41 7.96l-1.37-1.37c-.4-.4-.92-.59-1.43-.59-.52 0-1.04.2-1.43.59L10.3 9.45l-7.72 7.72c-.78.78-.78 2.05 0 2.83L4 21.41c.39.39.9.59 1.41.59.51 0 1.02-.2 1.41-.59l7.78-7.78 2.81-2.81c.8-.78.8-2.07 0-2.86zM5.41 20L4 18.59l7.72-7.72 1.47 1.35L5.41 20z\"/>\n",
              "  </svg>\n",
              "      </button>\n",
              "      \n",
              "  <style>\n",
              "    .colab-df-container {\n",
              "      display:flex;\n",
              "      flex-wrap:wrap;\n",
              "      gap: 12px;\n",
              "    }\n",
              "\n",
              "    .colab-df-convert {\n",
              "      background-color: #E8F0FE;\n",
              "      border: none;\n",
              "      border-radius: 50%;\n",
              "      cursor: pointer;\n",
              "      display: none;\n",
              "      fill: #1967D2;\n",
              "      height: 32px;\n",
              "      padding: 0 0 0 0;\n",
              "      width: 32px;\n",
              "    }\n",
              "\n",
              "    .colab-df-convert:hover {\n",
              "      background-color: #E2EBFA;\n",
              "      box-shadow: 0px 1px 2px rgba(60, 64, 67, 0.3), 0px 1px 3px 1px rgba(60, 64, 67, 0.15);\n",
              "      fill: #174EA6;\n",
              "    }\n",
              "\n",
              "    [theme=dark] .colab-df-convert {\n",
              "      background-color: #3B4455;\n",
              "      fill: #D2E3FC;\n",
              "    }\n",
              "\n",
              "    [theme=dark] .colab-df-convert:hover {\n",
              "      background-color: #434B5C;\n",
              "      box-shadow: 0px 1px 3px 1px rgba(0, 0, 0, 0.15);\n",
              "      filter: drop-shadow(0px 1px 2px rgba(0, 0, 0, 0.3));\n",
              "      fill: #FFFFFF;\n",
              "    }\n",
              "  </style>\n",
              "\n",
              "      <script>\n",
              "        const buttonEl =\n",
              "          document.querySelector('#df-80b6e386-cbe9-4608-9e0a-be4ee9500123 button.colab-df-convert');\n",
              "        buttonEl.style.display =\n",
              "          google.colab.kernel.accessAllowed ? 'block' : 'none';\n",
              "\n",
              "        async function convertToInteractive(key) {\n",
              "          const element = document.querySelector('#df-80b6e386-cbe9-4608-9e0a-be4ee9500123');\n",
              "          const dataTable =\n",
              "            await google.colab.kernel.invokeFunction('convertToInteractive',\n",
              "                                                     [key], {});\n",
              "          if (!dataTable) return;\n",
              "\n",
              "          const docLinkHtml = 'Like what you see? Visit the ' +\n",
              "            '<a target=\"_blank\" href=https://colab.research.google.com/notebooks/data_table.ipynb>data table notebook</a>'\n",
              "            + ' to learn more about interactive tables.';\n",
              "          element.innerHTML = '';\n",
              "          dataTable['output_type'] = 'display_data';\n",
              "          await google.colab.output.renderOutput(dataTable, element);\n",
              "          const docLink = document.createElement('div');\n",
              "          docLink.innerHTML = docLinkHtml;\n",
              "          element.appendChild(docLink);\n",
              "        }\n",
              "      </script>\n",
              "    </div>\n",
              "  </div>\n",
              "  "
            ]
          },
          "metadata": {},
          "execution_count": 52
        }
      ]
    },
    {
      "cell_type": "code",
      "source": [
        "from matplotlib.pyplot import title\n",
        "sns.barplot(x='algorithm',y='mean squared error',hue='feature selection',data=df_vis2).set(title='High dataset')"
      ],
      "metadata": {
        "colab": {
          "base_uri": "https://localhost:8080/",
          "height": 489
        },
        "id": "m7_JQYR4SJRp",
        "outputId": "e0c16cab-c163-4410-d403-30b767fdaefe"
      },
      "execution_count": 53,
      "outputs": [
        {
          "output_type": "execute_result",
          "data": {
            "text/plain": [
              "[Text(0.5, 1.0, 'High dataset')]"
            ]
          },
          "metadata": {},
          "execution_count": 53
        },
        {
          "output_type": "display_data",
          "data": {
            "text/plain": [
              "<Figure size 640x480 with 1 Axes>"
            ],
            "image/png": "[encoded data removed]"
          },
          "metadata": {}
        }
      ]
    },
    {
      "cell_type": "code",
      "source": [
        "col1_mse2=np.array(['seq', 'kbest', 'var','seq', 'kbest', 'var','seq', 'kbest', 'var'])\n",
        "col2_mse2=np.array([mse_seq_knn2,mse_kbest_knn2,mse_var_knn2,mse_seq2,mse_kbest2_reg,mse_var2_reg,DTC_mse_seq2,DTC_mse_kbest2,DTC_mse_var2])\n",
        "col3_mse2=np.array(['knn','knn','knn','reg','reg','reg','DTR','DTR','DTR'])\n",
        "df_vis3=pd.DataFrame({'feature selection':col1_mse,'mean squared error':col2_mse,'algorithm':col3_mse})\n",
        "df_vis3"
      ],
      "metadata": {
        "colab": {
          "base_uri": "https://localhost:8080/",
          "height": 331
        },
        "id": "2jgAcnRzpzt4",
        "outputId": "beb812e6-5ad1-44fd-d053-cf5d14d32db2"
      },
      "execution_count": 54,
      "outputs": [
        {
          "output_type": "execute_result",
          "data": {
            "text/plain": [
              "  feature selection  mean squared error algorithm\n",
              "0               seq            1.487857       knn\n",
              "1             kbest           15.938012       knn\n",
              "2               var            1.679889       knn\n",
              "3               seq           17.697032       reg\n",
              "4             kbest           19.014568       reg\n",
              "5               var           17.804487       reg\n",
              "6               seq            1.336405       DTR\n",
              "7             kbest            2.696891       DTR\n",
              "8               var            1.316139       DTR"
            ],
            "text/html": [
              "\n",
              "  <div id=\"df-0ee959ee-83ad-4f33-ad33-8242793e0b49\">\n",
              "    <div class=\"colab-df-container\">\n",
              "      <div>\n",
              "<style scoped>\n",
              "    .dataframe tbody tr th:only-of-type {\n",
              "        vertical-align: middle;\n",
              "    }\n",
              "\n",
              "    .dataframe tbody tr th {\n",
              "        vertical-align: top;\n",
              "    }\n",
              "\n",
              "    .dataframe thead th {\n",
              "        text-align: right;\n",
              "    }\n",
              "</style>\n",
              "<table border=\"1\" class=\"dataframe\">\n",
              "  <thead>\n",
              "    <tr style=\"text-align: right;\">\n",
              "      <th></th>\n",
              "      <th>feature selection</th>\n",
              "      <th>mean squared error</th>\n",
              "      <th>algorithm</th>\n",
              "    </tr>\n",
              "  </thead>\n",
              "  <tbody>\n",
              "    <tr>\n",
              "      <th>0</th>\n",
              "      <td>seq</td>\n",
              "      <td>1.487857</td>\n",
              "      <td>knn</td>\n",
              "    </tr>\n",
              "    <tr>\n",
              "      <th>1</th>\n",
              "      <td>kbest</td>\n",
              "      <td>15.938012</td>\n",
              "      <td>knn</td>\n",
              "    </tr>\n",
              "    <tr>\n",
              "      <th>2</th>\n",
              "      <td>var</td>\n",
              "      <td>1.679889</td>\n",
              "      <td>knn</td>\n",
              "    </tr>\n",
              "    <tr>\n",
              "      <th>3</th>\n",
              "      <td>seq</td>\n",
              "      <td>17.697032</td>\n",
              "      <td>reg</td>\n",
              "    </tr>\n",
              "    <tr>\n",
              "      <th>4</th>\n",
              "      <td>kbest</td>\n",
              "      <td>19.014568</td>\n",
              "      <td>reg</td>\n",
              "    </tr>\n",
              "    <tr>\n",
              "      <th>5</th>\n",
              "      <td>var</td>\n",
              "      <td>17.804487</td>\n",
              "      <td>reg</td>\n",
              "    </tr>\n",
              "    <tr>\n",
              "      <th>6</th>\n",
              "      <td>seq</td>\n",
              "      <td>1.336405</td>\n",
              "      <td>DTR</td>\n",
              "    </tr>\n",
              "    <tr>\n",
              "      <th>7</th>\n",
              "      <td>kbest</td>\n",
              "      <td>2.696891</td>\n",
              "      <td>DTR</td>\n",
              "    </tr>\n",
              "    <tr>\n",
              "      <th>8</th>\n",
              "      <td>var</td>\n",
              "      <td>1.316139</td>\n",
              "      <td>DTR</td>\n",
              "    </tr>\n",
              "  </tbody>\n",
              "</table>\n",
              "</div>\n",
              "      <button class=\"colab-df-convert\" onclick=\"convertToInteractive('df-0ee959ee-83ad-4f33-ad33-8242793e0b49')\"\n",
              "              title=\"Convert this dataframe to an interactive table.\"\n",
              "              style=\"display:none;\">\n",
              "        \n",
              "  <svg xmlns=\"http://www.w3.org/2000/svg\" height=\"24px\"viewBox=\"0 0 24 24\"\n",
              "       width=\"24px\">\n",
              "    <path d=\"M0 0h24v24H0V0z\" fill=\"none\"/>\n",
              "    <path d=\"M18.56 5.44l.94 2.06.94-2.06 2.06-.94-2.06-.94-.94-2.06-.94 2.06-2.06.94zm-11 1L8.5 8.5l.94-2.06 2.06-.94-2.06-.94L8.5 2.5l-.94 2.06-2.06.94zm10 10l.94 2.06.94-2.06 2.06-.94-2.06-.94-.94-2.06-.94 2.06-2.06.94z\"/><path d=\"M17.41 7.96l-1.37-1.37c-.4-.4-.92-.59-1.43-.59-.52 0-1.04.2-1.43.59L10.3 9.45l-7.72 7.72c-.78.78-.78 2.05 0 2.83L4 21.41c.39.39.9.59 1.41.59.51 0 1.02-.2 1.41-.59l7.78-7.78 2.81-2.81c.8-.78.8-2.07 0-2.86zM5.41 20L4 18.59l7.72-7.72 1.47 1.35L5.41 20z\"/>\n",
              "  </svg>\n",
              "      </button>\n",
              "      \n",
              "  <style>\n",
              "    .colab-df-container {\n",
              "      display:flex;\n",
              "      flex-wrap:wrap;\n",
              "      gap: 12px;\n",
              "    }\n",
              "\n",
              "    .colab-df-convert {\n",
              "      background-color: #E8F0FE;\n",
              "      border: none;\n",
              "      border-radius: 50%;\n",
              "      cursor: pointer;\n",
              "      display: none;\n",
              "      fill: #1967D2;\n",
              "      height: 32px;\n",
              "      padding: 0 0 0 0;\n",
              "      width: 32px;\n",
              "    }\n",
              "\n",
              "    .colab-df-convert:hover {\n",
              "      background-color: #E2EBFA;\n",
              "      box-shadow: 0px 1px 2px rgba(60, 64, 67, 0.3), 0px 1px 3px 1px rgba(60, 64, 67, 0.15);\n",
              "      fill: #174EA6;\n",
              "    }\n",
              "\n",
              "    [theme=dark] .colab-df-convert {\n",
              "      background-color: #3B4455;\n",
              "      fill: #D2E3FC;\n",
              "    }\n",
              "\n",
              "    [theme=dark] .colab-df-convert:hover {\n",
              "      background-color: #434B5C;\n",
              "      box-shadow: 0px 1px 3px 1px rgba(0, 0, 0, 0.15);\n",
              "      filter: drop-shadow(0px 1px 2px rgba(0, 0, 0, 0.3));\n",
              "      fill: #FFFFFF;\n",
              "    }\n",
              "  </style>\n",
              "\n",
              "      <script>\n",
              "        const buttonEl =\n",
              "          document.querySelector('#df-0ee959ee-83ad-4f33-ad33-8242793e0b49 button.colab-df-convert');\n",
              "        buttonEl.style.display =\n",
              "          google.colab.kernel.accessAllowed ? 'block' : 'none';\n",
              "\n",
              "        async function convertToInteractive(key) {\n",
              "          const element = document.querySelector('#df-0ee959ee-83ad-4f33-ad33-8242793e0b49');\n",
              "          const dataTable =\n",
              "            await google.colab.kernel.invokeFunction('convertToInteractive',\n",
              "                                                     [key], {});\n",
              "          if (!dataTable) return;\n",
              "\n",
              "          const docLinkHtml = 'Like what you see? Visit the ' +\n",
              "            '<a target=\"_blank\" href=https://colab.research.google.com/notebooks/data_table.ipynb>data table notebook</a>'\n",
              "            + ' to learn more about interactive tables.';\n",
              "          element.innerHTML = '';\n",
              "          dataTable['output_type'] = 'display_data';\n",
              "          await google.colab.output.renderOutput(dataTable, element);\n",
              "          const docLink = document.createElement('div');\n",
              "          docLink.innerHTML = docLinkHtml;\n",
              "          element.appendChild(docLink);\n",
              "        }\n",
              "      </script>\n",
              "    </div>\n",
              "  </div>\n",
              "  "
            ]
          },
          "metadata": {},
          "execution_count": 54
        }
      ]
    },
    {
      "cell_type": "code",
      "source": [
        "sns.barplot(x='algorithm',y='mean squared error',hue='feature selection',data=df_vis3).set(title='LOW dataset')"
      ],
      "metadata": {
        "colab": {
          "base_uri": "https://localhost:8080/",
          "height": 489
        },
        "id": "hR4GP8eqsBf4",
        "outputId": "5e37208a-349f-490f-bcd2-98b2afaa5052"
      },
      "execution_count": 55,
      "outputs": [
        {
          "output_type": "execute_result",
          "data": {
            "text/plain": [
              "[Text(0.5, 1.0, 'LOW dataset')]"
            ]
          },
          "metadata": {},
          "execution_count": 55
        },
        {
          "output_type": "display_data",
          "data": {
            "text/plain": [
              "<Figure size 640x480 with 1 Axes>"
            ],
            "image/png": "[encoded data removed]"
          },
          "metadata": {}
        }
      ]
    },
    {
      "cell_type": "code",
      "source": [
        "col1_r2=np.array(['seq', 'kbest', 'var','seq', 'kbest', 'var','seq', 'kbest', 'var'])\n",
        "col2_r2=np.array([r2_seq_knn2,r2_kbest_knn2,r2_var_knn2,r2_seq2,r2_kbest2_reg,r2_var2_reg,DTC_r2_seq2,DTC_r2_kbest2,DTC_r2_var2])\n",
        "col3_r2=np.array(['knn','knn','knn','reg','reg','reg','DTR','DTR','DTR'])\n",
        "df_vis4=pd.DataFrame({'feature selection':col1_r2,'R2':col2_r2,'algorithm':col3_r2})\n",
        "df_vis4"
      ],
      "metadata": {
        "colab": {
          "base_uri": "https://localhost:8080/",
          "height": 331
        },
        "id": "GYFQ5q9fscJm",
        "outputId": "67a7c124-a8c9-4246-ed19-7bb580ffc37c"
      },
      "execution_count": 56,
      "outputs": [
        {
          "output_type": "execute_result",
          "data": {
            "text/plain": [
              "  feature selection        R2 algorithm\n",
              "0               seq  0.934380       knn\n",
              "1             kbest  0.934380       knn\n",
              "2               var  0.925767       knn\n",
              "3               seq  0.201411       reg\n",
              "4             kbest  0.201411       reg\n",
              "5               var  0.196533       reg\n",
              "6               seq  0.954020       DTR\n",
              "7             kbest  0.954920       DTR\n",
              "8               var  0.935191       DTR"
            ],
            "text/html": [
              "\n",
              "  <div id=\"df-02705acc-3814-44fd-8200-7e4d882f7e9b\">\n",
              "    <div class=\"colab-df-container\">\n",
              "      <div>\n",
              "<style scoped>\n",
              "    .dataframe tbody tr th:only-of-type {\n",
              "        vertical-align: middle;\n",
              "    }\n",
              "\n",
              "    .dataframe tbody tr th {\n",
              "        vertical-align: top;\n",
              "    }\n",
              "\n",
              "    .dataframe thead th {\n",
              "        text-align: right;\n",
              "    }\n",
              "</style>\n",
              "<table border=\"1\" class=\"dataframe\">\n",
              "  <thead>\n",
              "    <tr style=\"text-align: right;\">\n",
              "      <th></th>\n",
              "      <th>feature selection</th>\n",
              "      <th>R2</th>\n",
              "      <th>algorithm</th>\n",
              "    </tr>\n",
              "  </thead>\n",
              "  <tbody>\n",
              "    <tr>\n",
              "      <th>0</th>\n",
              "      <td>seq</td>\n",
              "      <td>0.934380</td>\n",
              "      <td>knn</td>\n",
              "    </tr>\n",
              "    <tr>\n",
              "      <th>1</th>\n",
              "      <td>kbest</td>\n",
              "      <td>0.934380</td>\n",
              "      <td>knn</td>\n",
              "    </tr>\n",
              "    <tr>\n",
              "      <th>2</th>\n",
              "      <td>var</td>\n",
              "      <td>0.925767</td>\n",
              "      <td>knn</td>\n",
              "    </tr>\n",
              "    <tr>\n",
              "      <th>3</th>\n",
              "      <td>seq</td>\n",
              "      <td>0.201411</td>\n",
              "      <td>reg</td>\n",
              "    </tr>\n",
              "    <tr>\n",
              "      <th>4</th>\n",
              "      <td>kbest</td>\n",
              "      <td>0.201411</td>\n",
              "      <td>reg</td>\n",
              "    </tr>\n",
              "    <tr>\n",
              "      <th>5</th>\n",
              "      <td>var</td>\n",
              "      <td>0.196533</td>\n",
              "      <td>reg</td>\n",
              "    </tr>\n",
              "    <tr>\n",
              "      <th>6</th>\n",
              "      <td>seq</td>\n",
              "      <td>0.954020</td>\n",
              "      <td>DTR</td>\n",
              "    </tr>\n",
              "    <tr>\n",
              "      <th>7</th>\n",
              "      <td>kbest</td>\n",
              "      <td>0.954920</td>\n",
              "      <td>DTR</td>\n",
              "    </tr>\n",
              "    <tr>\n",
              "      <th>8</th>\n",
              "      <td>var</td>\n",
              "      <td>0.935191</td>\n",
              "      <td>DTR</td>\n",
              "    </tr>\n",
              "  </tbody>\n",
              "</table>\n",
              "</div>\n",
              "      <button class=\"colab-df-convert\" onclick=\"convertToInteractive('df-02705acc-3814-44fd-8200-7e4d882f7e9b')\"\n",
              "              title=\"Convert this dataframe to an interactive table.\"\n",
              "              style=\"display:none;\">\n",
              "        \n",
              "  <svg xmlns=\"http://www.w3.org/2000/svg\" height=\"24px\"viewBox=\"0 0 24 24\"\n",
              "       width=\"24px\">\n",
              "    <path d=\"M0 0h24v24H0V0z\" fill=\"none\"/>\n",
              "    <path d=\"M18.56 5.44l.94 2.06.94-2.06 2.06-.94-2.06-.94-.94-2.06-.94 2.06-2.06.94zm-11 1L8.5 8.5l.94-2.06 2.06-.94-2.06-.94L8.5 2.5l-.94 2.06-2.06.94zm10 10l.94 2.06.94-2.06 2.06-.94-2.06-.94-.94-2.06-.94 2.06-2.06.94z\"/><path d=\"M17.41 7.96l-1.37-1.37c-.4-.4-.92-.59-1.43-.59-.52 0-1.04.2-1.43.59L10.3 9.45l-7.72 7.72c-.78.78-.78 2.05 0 2.83L4 21.41c.39.39.9.59 1.41.59.51 0 1.02-.2 1.41-.59l7.78-7.78 2.81-2.81c.8-.78.8-2.07 0-2.86zM5.41 20L4 18.59l7.72-7.72 1.47 1.35L5.41 20z\"/>\n",
              "  </svg>\n",
              "      </button>\n",
              "      \n",
              "  <style>\n",
              "    .colab-df-container {\n",
              "      display:flex;\n",
              "      flex-wrap:wrap;\n",
              "      gap: 12px;\n",
              "    }\n",
              "\n",
              "    .colab-df-convert {\n",
              "      background-color: #E8F0FE;\n",
              "      border: none;\n",
              "      border-radius: 50%;\n",
              "      cursor: pointer;\n",
              "      display: none;\n",
              "      fill: #1967D2;\n",
              "      height: 32px;\n",
              "      padding: 0 0 0 0;\n",
              "      width: 32px;\n",
              "    }\n",
              "\n",
              "    .colab-df-convert:hover {\n",
              "      background-color: #E2EBFA;\n",
              "      box-shadow: 0px 1px 2px rgba(60, 64, 67, 0.3), 0px 1px 3px 1px rgba(60, 64, 67, 0.15);\n",
              "      fill: #174EA6;\n",
              "    }\n",
              "\n",
              "    [theme=dark] .colab-df-convert {\n",
              "      background-color: #3B4455;\n",
              "      fill: #D2E3FC;\n",
              "    }\n",
              "\n",
              "    [theme=dark] .colab-df-convert:hover {\n",
              "      background-color: #434B5C;\n",
              "      box-shadow: 0px 1px 3px 1px rgba(0, 0, 0, 0.15);\n",
              "      filter: drop-shadow(0px 1px 2px rgba(0, 0, 0, 0.3));\n",
              "      fill: #FFFFFF;\n",
              "    }\n",
              "  </style>\n",
              "\n",
              "      <script>\n",
              "        const buttonEl =\n",
              "          document.querySelector('#df-02705acc-3814-44fd-8200-7e4d882f7e9b button.colab-df-convert');\n",
              "        buttonEl.style.display =\n",
              "          google.colab.kernel.accessAllowed ? 'block' : 'none';\n",
              "\n",
              "        async function convertToInteractive(key) {\n",
              "          const element = document.querySelector('#df-02705acc-3814-44fd-8200-7e4d882f7e9b');\n",
              "          const dataTable =\n",
              "            await google.colab.kernel.invokeFunction('convertToInteractive',\n",
              "                                                     [key], {});\n",
              "          if (!dataTable) return;\n",
              "\n",
              "          const docLinkHtml = 'Like what you see? Visit the ' +\n",
              "            '<a target=\"_blank\" href=https://colab.research.google.com/notebooks/data_table.ipynb>data table notebook</a>'\n",
              "            + ' to learn more about interactive tables.';\n",
              "          element.innerHTML = '';\n",
              "          dataTable['output_type'] = 'display_data';\n",
              "          await google.colab.output.renderOutput(dataTable, element);\n",
              "          const docLink = document.createElement('div');\n",
              "          docLink.innerHTML = docLinkHtml;\n",
              "          element.appendChild(docLink);\n",
              "        }\n",
              "      </script>\n",
              "    </div>\n",
              "  </div>\n",
              "  "
            ]
          },
          "metadata": {},
          "execution_count": 56
        }
      ]
    },
    {
      "cell_type": "code",
      "source": [
        "sns.barplot(x='algorithm',y='R2',hue='feature selection',data=df_vis4).set(title='LOW dataset')"
      ],
      "metadata": {
        "colab": {
          "base_uri": "https://localhost:8080/",
          "height": 489
        },
        "id": "etUfFhw7th0O",
        "outputId": "a602f9f0-66f0-44a5-d893-4e635eba4d1d"
      },
      "execution_count": 57,
      "outputs": [
        {
          "output_type": "execute_result",
          "data": {
            "text/plain": [
              "[Text(0.5, 1.0, 'LOW dataset')]"
            ]
          },
          "metadata": {},
          "execution_count": 57
        },
        {
          "output_type": "display_data",
          "data": {
            "text/plain": [
              "<Figure size 640x480 with 1 Axes>"
            ],
            "image/png": "[encoded data removed]"
          },
          "metadata": {}
        }
      ]
    },
    {
      "cell_type": "code",
      "source": [],
      "metadata": {
        "id": "jBQ-tZofvZJR"
      },
      "execution_count": 57,
      "outputs": []
    }
  ],
  "metadata": {
    "colab": {
      "provenance": []
    },
    "kernelspec": {
      "display_name": "Python 3",
      "name": "python3"
    }
  },
  "nbformat": 4,
  "nbformat_minor": 0
}